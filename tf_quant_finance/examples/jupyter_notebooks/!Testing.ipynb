{
  "cells": [
    {
      "cell_type": "markdown",
      "metadata": {},
      "source": [
        "## Overview & Usage of the Tensorflow Quant Library \n",
        "### Import all the good stuff & create shortcuts"
      ]
    },
    {
      "cell_type": "code",
      "execution_count": 1,
      "metadata": {
        "id": "2nA2FSdTgcEM",
        "outputId": "5fc16840-0d8f-4ef0-c597-27df47e28e08"
      },
      "outputs": [],
      "source": [
        "import matplotlib.pyplot as plt\n",
        "import numpy as np\n",
        "import time\n",
        "import pandas as pd\n",
        "import seaborn as sns\n",
        "import tensorflow as tf\n",
        "# Import for Tensorflow Quant Finance\n",
        "import tf_quant_finance as tff \n",
        " \n",
        "# Shortcut alias\n",
        "pde = tff.math.pde\n",
        "option_price = tff.black_scholes.option_price\n",
        "implied_vol = tff.black_scholes.implied_vol\n"
      ]
    },
    {
      "cell_type": "markdown",
      "metadata": {},
      "source": [
        "#### Things to note:\n",
        "- Tensorflow allocates around 95% of the GPU memory by default on memory initialisation. So nothing to worry about.\n",
        "- GPU implementation is around 3x+ faster than CPU (if not default, run it `with tf.device(\"/gpu:0\"):`)\n",
        "- Running `tf.keras.backend.clear_session()` can solve some bugs within the notebook \n",
        "- Per AK using runs of 50k samples is a good starting point for MC"
      ]
    },
    {
      "cell_type": "markdown",
      "metadata": {},
      "source": [
        "### Price BTC option with closed form solution\n",
        "Can do multiple options by extending the arrays."
      ]
    },
    {
      "cell_type": "code",
      "execution_count": 3,
      "metadata": {},
      "outputs": [
        {
          "data": {
            "text/plain": [
              "(array([5582.10591316]), array([0.64998787]))"
            ]
          },
          "execution_count": 3,
          "metadata": {},
          "output_type": "execute_result"
        }
      ],
      "source": [
        "forwards = np.array([31600])\n",
        "strikes = np.array([32000])\n",
        "expiries = np.array([0.5])\n",
        "volatilities = np.array([0.65])\n",
        "discount_factors = 1\n",
        "is_call_options = np.array([True])\n",
        "\n",
        "# Price option using market data specified above\n",
        "out_prices = option_price(\n",
        "      volatilities=volatilities,\n",
        "      strikes=strikes/forwards,\n",
        "      expiries=expiries,\n",
        "      forwards=forwards/forwards,\n",
        "      discount_factors=discount_factors,\n",
        "      is_call_options=is_call_options).numpy() * forwards\n",
        "\n",
        "# Reversing the Option price to back out IV\n",
        "prices = np.array([5582])\n",
        "\n",
        "out_ivs = implied_vol(\n",
        "    prices=prices/forwards,\n",
        "    strikes=strikes/forwards,\n",
        "    expiries=expiries,\n",
        "    forwards=forwards/forwards,\n",
        "    validate_args=False,\n",
        "    tolerance=1e-8,\n",
        "    max_iterations=1000).numpy()\n",
        "\n",
        "out_prices, out_ivs"
      ]
    },
    {
      "cell_type": "markdown",
      "metadata": {},
      "source": [
        "### Query Bastion Volsurface and format it properly\n",
        "- Can specify the ranges and have to update timestamp `valuation_date` for it to work properly "
      ]
    },
    {
      "cell_type": "code",
      "execution_count": 4,
      "metadata": {},
      "outputs": [],
      "source": [
        "# RestClient\n",
        "\"\"\"\n",
        "    This module implements the FtxClient class and enables interaction with the FTX exchange.\n",
        "\"\"\"\n",
        "\n",
        "import time\n",
        "import urllib.parse\n",
        "from typing import Optional, Dict, Any\n",
        "\n",
        "import hmac\n",
        "import json\n",
        "import requests\n",
        "\n",
        "class RestClient:\n",
        "    def __init__(self, api_url, api_key=None, api_secret=None, subaccount_name=None) -> None:\n",
        "        self.API_URL = api_url\n",
        "        self._api_key = api_key\n",
        "        self._api_secret = api_secret\n",
        "        self._subaccount_name = subaccount_name\n",
        "\n",
        "    def _get(self, path: str, params: Optional[Dict[str, Any]] = None) -> Any:\n",
        "        return self._request('GET', path, params=params)\n",
        "\n",
        "    def _post(self, path: str, params: Optional[Dict[str, Any]] = None) -> Any:\n",
        "        return self._request('POST', path, payload=params)\n",
        "\n",
        "    def _delete(self, path: str, params: Optional[Dict[str, Any]] = None) -> Any:\n",
        "        return self._request('DELETE', path, payload=params)\n",
        "\n",
        "    def _request(self, method: str, endpoint: str, auth: bool = True, params={}, payload={}, api=None):\n",
        "        for count in range(1,4):\n",
        "            try:\n",
        "                _payload = json.dumps(payload) if payload else ''\n",
        "                _endpoint=f'{endpoint}?{urllib.parse.urlencode(params, safe=\"/\")}' if params else _endpoint\n",
        "                if not api:\n",
        "                    api = self.API_URL\n",
        "\n",
        "                url = f'{api}{_endpoint}'\n",
        "\n",
        "                header = {}\n",
        "                if method == 'GET':\n",
        "                    response = requests.get(url, headers=header, timeout=3)\n",
        "                elif method == 'POST':\n",
        "                    response = requests.post(url, data=_payload, headers=header, timeout=3)\n",
        "                elif method == 'DELETE':\n",
        "                    response = requests.delete(url, data=_payload, headers=header, timeout=3)\n",
        "\n",
        "                data = response.json()\n",
        "                response.close()\n",
        "                return data\n",
        "            except ConnectionError as err:\n",
        "                time.sleep(0.5*count)\n",
        "            except Exception as err:\n",
        "                time.sleep(0.5*count)\n",
        "\n",
        "    def _generate_signature(self, timestamp: str, method: str, endpoint: str, data='') -> dict:\n",
        "        message = f'{timestamp}{method}{endpoint}{data}'\n",
        "        signature = hmac.new(self._api_secret.encode('utf-8'), message.encode('utf-8'), 'sha256').hexdigest()\n",
        "        return signature\n",
        "\n",
        "    def get_endpoint(self, endpoint, params={}):\n",
        "        return self._get(endpoint, params)\n",
        "\n",
        "    def post_endpoint(self, endpoint, params={}):\n",
        "        return self._post(endpoint, params)\n",
        "\n",
        "client = RestClient(\"https://defi-bot.bastioncb.com:1443/\")\n"
      ]
    },
    {
      "cell_type": "code",
      "execution_count": 54,
      "metadata": {},
      "outputs": [
        {
          "name": "stdout",
          "output_type": "stream",
          "text": [
            "tf.Tensor([[0.6041501]], shape=(1, 1), dtype=float64)\n",
            "tf.Tensor([[0.60650176]], shape=(1, 1), dtype=float64)\n",
            "Lower limit: [[1.09516967]]\n",
            "Upper limit: [[0.64156603]]\n"
          ]
        }
      ],
      "source": [
        "# 1. Feed Volatility surface using a processed_market_data.VolatilitySurface instance\n",
        "import datetime\n",
        "from tf_quant_finance.experimental.pricing_platform.framework.market_data.volatility_surface import VolatilitySurface\n",
        "\n",
        "SPOT_REF = 31600\n",
        "DAY_REF = datetime.date(2022, 6, 8) #YYYY-MM-DD\n",
        "\n",
        "# Construct tff native Datetensors\n",
        "valuation_date = tff.datetime.dates_from_datetimes([DAY_REF])\n",
        "dates = [DAY_REF + datetime.timedelta(days=i) for i in range(1, 30*6+15)]\n",
        "\n",
        "# SET expiries as a (1 x Maturities) tensor \n",
        "expiries = tff.datetime.dates_from_datetimes(dates).reshape((1,-1))\n",
        "\n",
        "# Construct the strike space\n",
        "dk = 500\n",
        "S = [15000 + dk*i for i in range(45000//dk)]\n",
        "\n",
        "# Obtain IVs from volsurface\n",
        "date_strings = \",\".join([date.strftime('%d%b%y').upper() for date in dates])\n",
        "strikes_strings = \",\".join([str(strike) for strike in S])\n",
        "params =  {\"symbols\": \"BTC\", \"maturities\": date_strings, \"strikes\": strikes_strings}\n",
        "\n",
        "# dict: { maturity: {price: iv, ... }, ... }\n",
        "response = client.get_endpoint('volsurface', params)\n",
        "\n",
        "# New addition\n",
        "# SET strikes as (1 x Maturities x Strikes) tensor\n",
        "strikes = np.array(S)\n",
        "strikes = [expiries.shape[1]*[strikes.tolist()]]\n",
        "strikes = tf.constant(strikes, dtype=tf.float64)\n",
        "#strikes = tf.math.log(strikes)\n",
        "\n",
        "input_vols = pd.DataFrame(response).to_numpy().T.reshape((1, strikes.shape[1], -1))\n",
        "\n",
        "expiry_times = tff.datetime.daycount_actual_365_fixed(start_date=valuation_date, end_date=expiries, dtype=tf.float64)\n",
        "\n",
        "def build_volatility_surface(val_date, expiry_times, expiries, strikes, iv, dtype):\n",
        "  interpolator = tff.math.interpolation.interpolation_2d.Interpolation2D(expiry_times, strikes, iv, dtype=dtype)\n",
        "  \n",
        "  def _interpolator(t, x):\n",
        "    x_transposed = tf.transpose(x)\n",
        "    t = tf.broadcast_to(t, x_transposed.shape)\n",
        "    return tf.transpose(interpolator.interpolate(t, x_transposed))\n",
        "\n",
        "  return VolatilitySurface(val_date, expiries, strikes, iv, interpolator=_interpolator, dtype=dtype)\n",
        "\n",
        "# Test that it returns the right surface\n",
        "volsurface = build_volatility_surface(valuation_date, expiry_times, expiries, strikes, input_vols, dtype=tf.float64)\n",
        "\n",
        "# Test that it works with dates\n",
        "print(volsurface.volatility(strike=np.array([[40000]]), \n",
        "                            expiry_dates=tff.datetime.dates_from_datetimes([datetime.date(2022, 9, 1)]).reshape((1,-1))))\n",
        "\n",
        "# Test that it works with time\n",
        "print(volsurface.volatility(strike=np.array([[32100]]), \n",
        "                            expiry_times=np.array([[1/12]])))\n",
        "print(\"Lower limit:\", volsurface.volatility(strike=np.array([[0]]), \n",
        "                            expiry_times=np.array([[1/12]])).numpy())\n",
        "print(\"Upper limit:\", volsurface.volatility(strike=np.array([[100000]]), \n",
        "                            expiry_times=np.array([[1/12]])).numpy())\n"
      ]
    },
    {
      "cell_type": "markdown",
      "metadata": {},
      "source": [
        "### Check that the volsurface looks legit"
      ]
    },
    {
      "cell_type": "code",
      "execution_count": 55,
      "metadata": {},
      "outputs": [
        {
          "name": "stdout",
          "output_type": "stream",
          "text": [
            "90 (194,) (194, 90) (194, 90) (194, 90)\n"
          ]
        },
        {
          "data": {
            "image/png": "[encoded data removed]",
            "text/plain": [
              "<Figure size 576x504 with 1 Axes>"
            ]
          },
          "metadata": {
            "needs_background": "light"
          },
          "output_type": "display_data"
        }
      ],
      "source": [
        "import plotly.graph_objects as go\n",
        "t = expiry_times.numpy().reshape(-1)\n",
        "zz = input_vols.reshape((-1, len(S)))\n",
        "xx, yy = np.meshgrid(S, t)\n",
        "\n",
        "plt.figure(figsize=(8,7))\n",
        "ax = plt.axes(projection='3d')\n",
        "print(len(S), t.shape, xx.shape, yy.shape, zz.shape)\n",
        "ax.contourf3D(yy, xx, zz, 300, cmap='rainbow')\n",
        "ax.set_xlabel('x')\n",
        "ax.set_ylabel('y')\n",
        "ax.set_zlabel('z')\n",
        "ax.set_zlim(0.5, 1.5)\n",
        "plt.show()"
      ]
    },
    {
      "cell_type": "markdown",
      "metadata": {},
      "source": [
        "### Example investigation: Extract the dupire local vol model from codebase"
      ]
    },
    {
      "cell_type": "code",
      "execution_count": 7,
      "metadata": {},
      "outputs": [],
      "source": [
        "# Dupire implemented using van der Kamp implementation as follows: \n",
        "# --> See corresponding TF_Dupire_Implementation pdf\n",
        "# Absolute K should be fine\n",
        "def dupire():\n",
        "  \n",
        "  theta = _implied_vol(time, spot_price)\n",
        "  \n",
        "  d1 = tf.math.divide_no_nan(\n",
        "      (tf.math.log(initial_spot_price / spot_price) +\n",
        "       (risk_free_rate - dividend_yield + 0.5 * theta**2) * time) / theta,\n",
        "      \n",
        "      tf.math.sqrt(time))\n",
        "\n",
        "  spot_fn = lambda x: _implied_vol(time, x)\n",
        "  time_fn = lambda t: _implied_vol(t, spot_price)\n",
        "  # Computes the gradients \n",
        "  dtheta_dt = lambda t: math.fwd_gradient(time_fn, t)\n",
        "  dtheta_dspot = lambda x: math.fwd_gradient(spot_fn, x)\n",
        "  # Computes the second deriv.\n",
        "  d2theta_dspot2 = lambda x: math.fwd_gradient(dtheta_dspot, x)\n",
        "  \n",
        "  numerator = (\n",
        "      theta**2 + 2 * time * theta * dtheta_dt(time) + 2 *\n",
        "      (risk_free_rate - dividend_yield) * spot_price * time * theta *\n",
        "      dtheta_dspot(spot_price))\n",
        "  \n",
        "  denominator = (\n",
        "      (1 + spot_price * d1 * time * dtheta_dspot(spot_price))**2 +\n",
        "      spot_price**2 * time * theta *\n",
        "      (d2theta_dspot2(spot_price) - d1 * time * dtheta_dspot(spot_price)**2))\n",
        "  \n",
        "  local_volatility_squared = tf.nn.relu(tf.math.divide_no_nan(numerator, denominator))\n",
        "  \n",
        "  "
      ]
    },
    {
      "cell_type": "code",
      "execution_count": 24,
      "metadata": {},
      "outputs": [
        {
          "data": {
            "text/plain": [
              "<tf.Tensor: shape=(3, 1), dtype=float64, numpy=\n",
              "array([[0.58555009],\n",
              "       [0.56978833],\n",
              "       [0.56647748]])>"
            ]
          },
          "execution_count": 24,
          "metadata": {},
          "output_type": "execute_result"
        }
      ],
      "source": [
        "from tf_quant_finance.experimental.local_volatility import local_volatility_model\n",
        "\n",
        "dupire_local_volatility = local_volatility_model._dupire_local_volatility_iv\n",
        "\n",
        "# Query specific times and spots \n",
        "# if times.shape > spots.shape => ERROR (?)\n",
        "times = tf.convert_to_tensor([1/12], dtype=tf.float64)\n",
        "spots = tf.reshape(tf.convert_to_tensor([30000, 32000, 33000], dtype=tf.float64), [-1, 1])\n",
        "\n",
        "# Should remain constant\n",
        "initial_spot = tf.constant([[31600]], dtype=tf.float64)\n",
        "discount_factor_fn = lambda t: tf.math.exp(-0 * t)\n",
        "dividend_yield = [0.]\n",
        "\n",
        "# Looks like all the spot/strike inputs in non-log terms\n",
        "# -> Double checks \n",
        "# Query function\n",
        "dupire_local_volatility(times, \n",
        "                        spots, \n",
        "                        initial_spot, \n",
        "                        volsurface.volatility, \n",
        "                        discount_factor_fn, \n",
        "                        dividend_yield)"
      ]
    },
    {
      "cell_type": "markdown",
      "metadata": {},
      "source": [
        "### MC pricing of a vanilla option with custom vol and drift model"
      ]
    },
    {
      "cell_type": "markdown",
      "metadata": {},
      "source": [
        "The Euler-Scheme is implemented in tf (reproduced below) in terms of $\\log S_t = \\log S_{t-1} + dt * drift + dW * vol$."
      ]
    },
    {
      "cell_type": "code",
      "execution_count": 169,
      "metadata": {},
      "outputs": [],
      "source": [
        "# Euler Sampling implementation\n",
        "\n",
        "\n",
        "def _euler_step(*, i, written_count, current_state,\n",
        "                drift_fn, volatility_fn, wiener_mean,\n",
        "                num_samples, times, dt, sqrt_dt, keep_mask,\n",
        "                random_type, seed, normal_draws, result,\n",
        "                record_samples):\n",
        "  \"\"\"Performs one step of Euler scheme.\"\"\"\n",
        "  current_time = times[i + 1]\n",
        "  written_count = tf.cast(written_count, tf.int32)\n",
        "  if normal_draws is not None:\n",
        "    dw = normal_draws[i]\n",
        "  else:\n",
        "    dw = random.mv_normal_sample(\n",
        "        (num_samples,), mean=wiener_mean, random_type=random_type,\n",
        "        seed=seed)\n",
        "    \n",
        "  dw = dw * sqrt_dt[i]\n",
        "  dt_inc = dt[i] * drift_fn(current_time, current_state)  # pylint: disable=not-callable\n",
        "  dw_inc = tf.linalg.matvec(volatility_fn(current_time, current_state), dw)  # pylint: disable=not-callable\n",
        "  \n",
        "  next_state = current_state + dt_inc + dw_inc\n",
        "  \n",
        "  if record_samples:\n",
        "    result = result.write(written_count, next_state)\n",
        "  else:\n",
        "    result = next_state\n",
        "  written_count += tf.cast(keep_mask[i + 1], dtype=tf.int32)\n",
        "\n",
        "  return i + 1, written_count, next_state, result"
      ]
    },
    {
      "cell_type": "markdown",
      "metadata": {},
      "source": [
        "Set parameters for comparison:"
      ]
    },
    {
      "cell_type": "code",
      "execution_count": 37,
      "metadata": {},
      "outputs": [],
      "source": [
        "# Parameters Specification\n",
        "dtype = np.float64  \n",
        "num_samples = 50000\n",
        "\n",
        "num_timesteps = 100\n",
        "\n",
        "expiries = [1/12, 4/12, 6/12, 1] # This can be a rank 1 Tensor\n",
        "dt = 1. / num_timesteps\n",
        "rate = tf.constant(0, dtype=dtype)\n",
        "sigma = tf.constant(0.65, dtype=dtype)\n",
        "spot = tf.constant(SPOT_REF, dtype=dtype)\n",
        "\n",
        "strikes = tf.constant([30000, 32000, 34000], dtype=dtype)"
      ]
    },
    {
      "cell_type": "code",
      "execution_count": 43,
      "metadata": {},
      "outputs": [
        {
          "name": "stdout",
          "output_type": "stream",
          "text": [
            "Maturity x Strike:\n"
          ]
        },
        {
          "data": {
            "text/plain": [
              "array([[3162.25545296, 2154.8313328 , 1409.52695473],\n",
              "       [5414.60487158, 4523.16456515, 3761.7201174 ],\n",
              "       [6467.37185015, 5613.50168157, 4866.73519058],\n",
              "       [8671.27392348, 7902.19095743, 7207.3766808 ]])"
            ]
          },
          "execution_count": 43,
          "metadata": {},
          "output_type": "execute_result"
        }
      ],
      "source": [
        "# Default Vanilla MC with BS vols\n",
        "\n",
        "def set_up_pricer(expiries):\n",
        "    \"\"\"Set up European option pricing function under Black-Scholes model.\n",
        "    \n",
        "    Args:\n",
        "        expiries: List of expiries at which to to sample the trajectories.\n",
        "        watch_params: A Python bool. When `True`, gradients of the price function wrt the inputs\n",
        "          are computed more efficiently. \n",
        "    Returns:\n",
        "     A callable that accepts a rank 1 tensor of strikes, and scalar values for \n",
        "     the spots and  volatility values. The callable outputs prices of\n",
        "     the European call options on the grid `expiries x strikes`.\n",
        "    \"\"\"\n",
        "    def price_eu_options(strikes, spot, sigma):\n",
        "        # Define drift and volatility functions. \n",
        "        \n",
        "        # Can modify to include a different drift model\n",
        "        def drift_fn(t, x):\n",
        "          del t, x\n",
        "          return rate - 0.5 * sigma**2\n",
        "        \n",
        "        # Can modify to include a different vol model\n",
        "        def vol_fn(t, x):\n",
        "          del t, x\n",
        "          return tf.reshape(sigma, [1, 1])\n",
        "        \n",
        "        # Use GenericItoProcess class to set up the general Ito process\n",
        "        # dX_i = a_i(t, X) dt + Sum(S_{ij}(t, X) dW_j for 1 <= j <= n), 1 <= i <= n\n",
        "        # \n",
        "        # a_i is referred to as the drift\n",
        "        # b_{ij} as the volatility of the process\n",
        "        process = tff.models.GenericItoProcess(\n",
        "            dim=1,\n",
        "            drift_fn=drift_fn,\n",
        "            volatility_fn=vol_fn,\n",
        "            dtype=dtype)\n",
        "        \n",
        "        log_spot = tf.math.log(tf.reduce_mean(spot))\n",
        "        \n",
        "        # Uses Euler Sampling in the backend \n",
        "        # HAS to be using log(spot)\n",
        "        paths = process.sample_paths(\n",
        "            expiries, \n",
        "            num_samples=num_samples,\n",
        "            initial_state=log_spot, \n",
        "            # Select a random number generator\n",
        "            random_type=tff.math.random.RandomType.PSEUDO_ANTITHETIC,\n",
        "            time_step=dt)\n",
        "        \n",
        "        # Prices determined by the payoff of the option given the performance of the underlying \n",
        "        # reduce_mean -> Mean() across specified axis\n",
        "        # relu -> max(x, 0)\n",
        "        # exp(paths) -> paths in log prices, so exp(paths) in paths\n",
        "        # strikes -> absolute terms \n",
        "        \n",
        "        prices = (tf.reduce_mean(tf.nn.relu(tf.math.exp(paths) - strikes), 0))\n",
        "        \n",
        "        # prices = (tf.exp(-tf.expand_dims(rate * expiries, axis=-1))\n",
        "        #           * tf.reduce_mean(tf.nn.relu(tf.math.exp(paths) - strikes), 0))\n",
        "        \n",
        "        return prices\n",
        "      \n",
        "    return price_eu_options\n",
        "\n",
        "price_eu_options = tf.function(set_up_pricer(expiries))\n",
        "\n",
        "print(\"Maturity x Strike:\")\n",
        "price_eu_options(strikes, spot, sigma).numpy()"
      ]
    },
    {
      "cell_type": "markdown",
      "metadata": {},
      "source": [
        "### Integrate local vol model into the MC solver "
      ]
    },
    {
      "cell_type": "markdown",
      "metadata": {},
      "source": [
        "1. Feed Volatility surface using a processed_market_data.VolatilitySurface instance\n",
        "2. Initialise it in pricing_platform\\framework\\market_data\\volatility_surface.py -> VolatilitySurface()\n",
        "3. Initialise LocalVolatilityModel.from_volatility_surface()\n",
        "4. Feed LocalVolatilityModel.local_volatility_fn()\n"
      ]
    },
    {
      "cell_type": "code",
      "execution_count": 45,
      "metadata": {},
      "outputs": [
        {
          "data": {
            "text/plain": [
              "<tf.Tensor: shape=(4, 3), dtype=float64, numpy=\n",
              "array([[2982.24323118, 1944.36178924, 1196.37424466],\n",
              "       [5124.23349158, 4187.05731937, 3400.91244745],\n",
              "       [6169.31352384, 5264.25908991, 4479.38551049],\n",
              "       [8291.61011151, 7439.09923673, 6678.52333679]])>"
            ]
          },
          "execution_count": 45,
          "metadata": {},
          "output_type": "execute_result"
        }
      ],
      "source": [
        "# Volmodel Implementation \n",
        "from tf_quant_finance.experimental.local_volatility import LocalVolatilityModel\n",
        "\n",
        "def set_up_pricer(expiries):\n",
        "    \"\"\"Set up European option pricing function under Black-Scholes model.\n",
        "    \"\"\"\n",
        "    def price_eu_options_local_vol(strikes, spot, sigma):\n",
        "        '''\n",
        "        Use LocalVolatilityModel class to set up the Ito process:\n",
        "          - passes the volsurface and spot etc using dupire from iv's \n",
        "          - then calls __init__() for initialise localvolmodel\n",
        "        '''\n",
        "        # HAS to be spot and not Log spot -> \n",
        "        # converted in _dupire_local_volatility_iv()\n",
        "        process = LocalVolatilityModel.from_volatility_surface(dim = 1,\n",
        "                                                spot = spot,\n",
        "                                                implied_volatility_surface = volsurface,\n",
        "                                                discount_factor_fn = lambda t: tf.math.exp(0* t),\n",
        "                                                dtype=tf.float64)\n",
        "        \n",
        "        # HAS to be spot -> \n",
        "        # is converted to log spot in sample_paths()\n",
        "        paths = process.sample_paths(\n",
        "            expiries, \n",
        "            num_samples=num_samples,\n",
        "            initial_state=spot, \n",
        "            random_type=tff.math.random.RandomType.PSEUDO_ANTITHETIC,\n",
        "            time_step=dt)\n",
        "\n",
        "        # Computes the vanilla prices\n",
        "        prices = (tf.exp(-tf.expand_dims(rate * expiries, axis=-1))\n",
        "                  * tf.reduce_mean(tf.nn.relu(paths - strikes), 0))\n",
        "\n",
        "        return paths, prices\n",
        "      \n",
        "    return price_eu_options_local_vol\n",
        "\n",
        "price_eu_options_local_vol = tf.function(set_up_pricer(expiries))\n",
        "p = price_eu_options_local_vol(strikes, spot, sigma)\n",
        "p[1]"
      ]
    },
    {
      "cell_type": "code",
      "execution_count": 57,
      "metadata": {},
      "outputs": [
        {
          "data": {
            "text/plain": [
              "(930.5417937714727, 317739.9238951874)"
            ]
          },
          "execution_count": 57,
          "metadata": {},
          "output_type": "execute_result"
        }
      ],
      "source": [
        "# Gives you the min/max of the option prices across all simulations & expiries\n",
        "# -> Can index for specific expiries across dimension 1\n",
        "p[0].numpy().min(), p[0].numpy().max()"
      ]
    },
    {
      "cell_type": "markdown",
      "metadata": {},
      "source": [
        "### Side-Notes:"
      ]
    },
    {
      "cell_type": "markdown",
      "metadata": {},
      "source": [
        "#### Can compare CPU and GPU implementation by specifying run device"
      ]
    },
    {
      "cell_type": "code",
      "execution_count": 21,
      "metadata": {},
      "outputs": [
        {
          "name": "stdout",
          "output_type": "stream",
          "text": [
            "WARNING:tensorflow:5 out of the last 5 calls to <function set_up_pricer.<locals>.price_eu_options at 0x0000020453359798> triggered tf.function retracing. Tracing is expensive and the excessive number of tracings could be due to (1) creating @tf.function repeatedly in a loop, (2) passing tensors with different shapes, (3) passing Python objects instead of tensors. For (1), please define your @tf.function outside of the loop. For (2), @tf.function has reduce_retracing=True option that can avoid unnecessary retracing. For (3), please refer to https://www.tensorflow.org/guide/function#controlling_retracing and https://www.tensorflow.org/api_docs/python/tf/function for  more details.\n"
          ]
        }
      ],
      "source": [
        "with tf.device(\"/gpu:0\"):\n",
        "  price_eu_options = tf.function(set_up_pricer(expiries))\n",
        "  p = price_eu_options(strikes, spot, sigma)"
      ]
    },
    {
      "cell_type": "code",
      "execution_count": 18,
      "metadata": {},
      "outputs": [],
      "source": [
        "with tf.device(\"/cpu:0\"):\n",
        "  price_eu_options = tf.function(set_up_pricer(expiries))\n",
        "  c = price_eu_options(strikes, spot, sigma)\n"
      ]
    },
    {
      "cell_type": "markdown",
      "metadata": {},
      "source": [
        "#### Whenever some Graph error comes up that is not Out-Of-Memory, can run the following within the notebook:"
      ]
    },
    {
      "cell_type": "code",
      "execution_count": 56,
      "metadata": {},
      "outputs": [],
      "source": [
        "tf.keras.backend.clear_session()\n"
      ]
    },
    {
      "cell_type": "markdown",
      "metadata": {
        "id": "KsVBo68Fabgt"
      },
      "source": [
        " ### American Option pricer using the PDE solver\n",
        "   American option price $V(x, t)$ of an option with spot price $x$ at time $t$\n",
        "   under Black-Scholes model satisfies the following PDE\n",
        "   $$V_{t} + \\frac{\\sigma^2}{2}  x^2  V_{xx} + r  x  V_{x}\n",
        " - r  V(t, x) = 0.$$\n",
        "  Tensorflow Quant Finance library provides tools for solving Parabolic PDE's\n",
        "  of the form  \n",
        "  $$V_{t} + \\frac{a(t, x)}{2}  V_{xx} + b(t, x) V_{x} - c(t, x)  V = 0$$\n",
        "\n",
        "  Henceforth,\n",
        "  $a(t, x)$, $b(t, x)$, and $c(t, x)$ are referred to as quadratic, linear and\n",
        "  shift coefficients, respectively. We describe in details how to write a\n",
        "  custom pricer that is both batchable (i.e., multiple equations can be solved\n",
        "  simultaneously) and compatible with an NVIDIA GPU. \n"
      ]
    },
    {
      "cell_type": "code",
      "execution_count": 37,
      "metadata": {
        "cellView": "form",
        "id": "13_gS0ZIBw2x"
      },
      "outputs": [],
      "source": [
        "#@title **American Option pricer**\n",
        "\n",
        "# tf.function decorator makes the function faster in graph mode.\n",
        "@tf.function\n",
        "def american_option(number_grid_points,\n",
        "                    time_delta,\n",
        "                    strike,\n",
        "                    volatility,\n",
        "                    risk_free_rate,\n",
        "                    expiry,\n",
        "                    dtype=tf.float64):\n",
        "  \"\"\" Computes American Call options prices.\n",
        "\n",
        "  Args:\n",
        "    number_grid_points: A Python int. Number of grid points for the finite\n",
        "      difference scheme.\n",
        "    time_delta: A Python float. Grid time discretization parameter.\n",
        "    strike: A real `Tensor` of shape `(number_of_options, 1)`.\n",
        "      Represents the strikes of the underlying American options. \n",
        "    volatility: A real `Tensor` of shape `(number_of_options, 1)`.\n",
        "      Represents the volatilities of the underlying American options. \n",
        "    risk_free_rate: A real `Tensor` of shape `(number_of_options, 1)`.\n",
        "      Represents the risk-free interest rates associated with the underlying\n",
        "      American options.\n",
        "    expiry: A Python float. Expiry date of the options. If the options\n",
        "      have different expiries, volatility term has to adjusted to\n",
        "      make expiries the same.\n",
        "    dtype: Optional `tf.dtype` used to assert dtype of the input `Tensor`s.\n",
        "\n",
        "  Returns:\n",
        "    A tuple of the estimated option prices of shape\n",
        "    `(number_of_options, number_grid_points)` and the corresponding `Tensor` \n",
        "    of grid locations of shape `(number_grid_points,)`.\n",
        "  \"\"\"\n",
        "  # Define the coordinate grid\n",
        "  s_min = 0.01\n",
        "  s_max = 300.\n",
        "  grid = pde.grids.uniform_grid(minimums=[s_min],\n",
        "                                maximums=[s_max],\n",
        "                                sizes=[number_grid_points],\n",
        "                                dtype=dtype)\n",
        "\n",
        "  # Define the values grid for the final condition\n",
        "  s = grid[0]\n",
        "  final_values_grid = tf.nn.relu(s - strike)\n",
        "\n",
        "  # Define the PDE coefficient functions\n",
        "  def second_order_coeff_fn(t, grid):\n",
        "    del t\n",
        "    s = grid[0]\n",
        "    return [[volatility ** 2 * s ** 2 / 2]]\n",
        "\n",
        "  def first_order_coeff_fn(t, grid):\n",
        "    del t\n",
        "    s = grid[0]\n",
        "    return [risk_free_rate * s]\n",
        "\n",
        "  def zeroth_order_coeff_fn(t, grid):\n",
        "    del t, grid\n",
        "    return -risk_free_rate\n",
        "\n",
        "  # Define the boundary conditions\n",
        "  @pde.boundary_conditions.dirichlet\n",
        "  def lower_boundary_fn(t, grid):\n",
        "    del t, grid\n",
        "    return tf.constant(0.0, dtype=dtype)\n",
        "\n",
        "  @pde.boundary_conditions.dirichlet\n",
        "  def upper_boundary_fn(t, grid):\n",
        "    del grid\n",
        "    return tf.squeeze(s_max - strike * tf.exp(-risk_free_rate * (expiry - t)))\n",
        "\n",
        "  # In order to price American option one needs to set option values to \n",
        "  # V(x) := max(V(x), max(x - strike, 0)) after each iteration\n",
        "  def values_transform_fn(t, grid, values):\n",
        "    del t\n",
        "    s = grid[0]\n",
        "    values_floor = tf.nn.relu(s - strike)\n",
        "    return grid, tf.maximum(values, values_floor)\n",
        "\n",
        "  # Solve\n",
        "  estimate_values, estimate_grid, _, _ = \\\n",
        "    pde.fd_solvers.solve_backward(\n",
        "      start_time=expiry,\n",
        "      end_time=0,\n",
        "      values_transform_fn=values_transform_fn,\n",
        "      coord_grid=grid,\n",
        "      values_grid=final_values_grid,\n",
        "      time_step=time_delta,\n",
        "      boundary_conditions=[(lower_boundary_fn, upper_boundary_fn)],\n",
        "      second_order_coeff_fn=second_order_coeff_fn,\n",
        "      first_order_coeff_fn=first_order_coeff_fn,\n",
        "      zeroth_order_coeff_fn=zeroth_order_coeff_fn,\n",
        "      dtype=dtype\n",
        "    )\n",
        "  return estimate_values, estimate_grid[0]\n",
        "\n",
        "def option_param(number_of_options, dtype, seed=42):\n",
        "  \"\"\" Function to generate volatilities, rates, strikes \"\"\"\n",
        "  np.random.seed(seed)\n",
        "  if number_of_options > 1:\n",
        "    volatility = tf.random.uniform(shape=(number_of_options, 1),\n",
        "                                   dtype=dtype) * 0.1 + 0.3\n",
        "    # Random risk free rate between 0 and 0.2.\n",
        "    risk_free_rate = tf.constant(\n",
        "      np.random.rand(number_of_options, 1) * 0.05, dtype)\n",
        "    # Random strike between 20 and 120.\n",
        "    strike = tf.constant(\n",
        "      np.random.rand(number_of_options, 1) * 100 + 50, dtype)\n",
        "  else:\n",
        "    volatility = tf.constant([0.3], dtype)\n",
        "    risk_free_rate = tf.constant([0.05], dtype)\n",
        "    strike = tf.constant([50], dtype)\n",
        "  return volatility, risk_free_rate, strike"
      ]
    },
    {
      "cell_type": "markdown",
      "metadata": {
        "id": "OnijmIHSD5_a"
      },
      "source": [
        "### Batching\n",
        "\n",
        "* Batching is a powerful feature of design of Tensorflow.\n",
        "* TFF leverages this strongly.\n",
        "* Most methods can accept a \"batch\" of inputs.\n",
        "* Example below (Batch of American Call Options with varying strikes, vols and rates).\n",
        "\n"
      ]
    },
    {
      "cell_type": "code",
      "execution_count": 47,
      "metadata": {
        "id": "qAPYRpLIEgPH"
      },
      "outputs": [],
      "source": [
        "#@title Price multiple American Call options at a time\n",
        "\n",
        "number_of_options = 10 #@param\n",
        "\n",
        "time_delta = 0.005\n",
        "\n",
        "expiry = 1.0  \n",
        "\n",
        "number_grid_points = 1024 \n",
        "\n",
        "dtype = tf.float64 \n",
        "\n",
        "spot = 110  + tf.random.uniform(shape=[number_of_options, 1], dtype=dtype)\n",
        "\n",
        "# Generate volatilities, rates, strikes\n",
        "volatility, risk_free_rate, strike = option_param(number_of_options, dtype)\n",
        "\n",
        "# Build a graph to compute prices of the American Options.\n",
        "estimate, grid_locations = american_option(\n",
        "    time_delta=time_delta,\n",
        "    expiry=expiry,\n",
        "    number_grid_points=number_grid_points,\n",
        "    volatility=volatility,\n",
        "    risk_free_rate=risk_free_rate,\n",
        "    strike=strike,\n",
        "    dtype=dtype)\n",
        "\n",
        "# Convert to numpy for plotting\n",
        "estimate = estimate.numpy()\n",
        "grid_locations = grid_locations.numpy()"
      ]
    },
    {
      "cell_type": "code",
      "execution_count": 39,
      "metadata": {
        "cellView": "form",
        "colab": {
          "base_uri": "https://localhost:8080/",
          "height": 535
        },
        "id": "I7eAh-_Z3jdK",
        "outputId": "d1526452-0d1b-4ae1-9914-b7410d8027db"
      },
      "outputs": [
        {
          "data": {
            "image/png": "[encoded data removed]",
            "text/plain": [
              "<Figure size 720x576 with 1 Axes>"
            ]
          },
          "metadata": {
            "needs_background": "light"
          },
          "output_type": "display_data"
        }
      ],
      "source": [
        "#@title Price/spot plot for the American Call options\n",
        "# Prepare data for plotting \n",
        "options = [x + 1 for x in range(number_of_options) for _ in range(1024)]\n",
        "plot_data = pd.DataFrame({\n",
        "    'Spot': list(np.ndarray.flatten(grid_locations)) * number_of_options, \n",
        "    'Price': estimate.flatten(),\n",
        "    'Option': options})\n",
        "\n",
        "\n",
        "# Plot\n",
        "plt.figure(figsize=(10, 8))\n",
        "sns.set(style=\"darkgrid\")\n",
        "sns.set_context(\"paper\", font_scale=1.5, rc={\"lines.linewidth\": 2.5})\n",
        "plot = sns.lineplot(x=\"Spot\", y=\"Price\", hue=\"Option\",\n",
        "                    data=plot_data,\n",
        "                    palette=sns.color_palette()[:number_of_options],\n",
        "                    legend=False)\n",
        "plot.axes.set_title(f\"Price/Spot for {number_of_options} American Call Options\",\n",
        "                    fontsize=25)\n",
        "xlabel = plot.axes.get_xlabel()\n",
        "ylabel = plot.axes.get_ylabel()\n",
        "plot.axes.set_xlabel(xlabel, fontsize=20)\n",
        "plot.axes.set_ylabel(ylabel, fontsize=20)\n",
        "plt.show()"
      ]
    },
    {
      "cell_type": "markdown",
      "metadata": {
        "id": "B4Y5lQV3S9l8"
      },
      "source": [
        "### GPU Implementation"
      ]
    },
    {
      "cell_type": "code",
      "execution_count": 40,
      "metadata": {
        "cellView": "form",
        "colab": {
          "base_uri": "https://localhost:8080/"
        },
        "id": "YCWMBrv-S87k",
        "outputId": "c61ae5e1-0df2-47f9-c2ba-b30b15a25812"
      },
      "outputs": [
        {
          "name": "stdout",
          "output_type": "stream",
          "text": [
            "------------------------\n",
            "Tensorflow GPU\n",
            "wall time:  7.320438623428345\n",
            "options per second:  1366.0383638756266\n",
            "------------------------\n"
          ]
        }
      ],
      "source": [
        "#@title Tensorflow Finance pricing on GPU\n",
        "\n",
        "number_of_options = 10000  #@param\n",
        "\n",
        "time_delta = 0.005\n",
        "\n",
        "expiry = 1.0 \n",
        "\n",
        "number_grid_points = 1024\n",
        "\n",
        "dtype = tf.float64\n",
        "\n",
        "# Generate volatilities, rates, strikes\n",
        "volatility, risk_free_rate, strike = option_param(number_of_options, dtype)\n",
        "\n",
        "device = \"/gpu:0\"\n",
        "with tf.device(device):\n",
        "  \n",
        "  # Warmup (graph construction + graph optimization)\n",
        "  estimate, _ = american_option(\n",
        "      time_delta=time_delta,\n",
        "      expiry=expiry,\n",
        "      number_grid_points=number_grid_points, \n",
        "      volatility=volatility,\n",
        "      risk_free_rate=risk_free_rate,\n",
        "      strike=strike,\n",
        "      dtype=dtype)\n",
        "\n",
        "  # Timed run\n",
        "  t = time.time()\n",
        "  estimate, _ = american_option(\n",
        "      time_delta=time_delta,\n",
        "      expiry=expiry,\n",
        "      number_grid_points=number_grid_points, \n",
        "      volatility=volatility,\n",
        "      risk_free_rate=risk_free_rate,\n",
        "      strike=strike,\n",
        "      dtype=dtype)\n",
        "  time_gpu = time.time() - t\n",
        "    \n",
        "gpu_options_per_second = number_of_options / time_gpu\n",
        "print('------------------------')\n",
        "print('Tensorflow GPU')\n",
        "print('wall time: ', time_gpu)\n",
        "print('options per second: ', gpu_options_per_second)\n",
        "print('------------------------')"
      ]
    }
  ],
  "metadata": {
    "accelerator": "GPU",
    "colab": {
      "collapsed_sections": [
        "OnijmIHSD5_a"
      ],
      "name": "American_Option_Black_Scholes.ipynb",
      "provenance": [],
      "toc_visible": true
    },
    "interpreter": {
      "hash": "b350f627e7d2a29f05688dace40c3849ed1144345c746428335ab17f9b657d2e"
    },
    "kernelspec": {
      "display_name": "Python 3.7.13 ('googletf')",
      "language": "python",
      "name": "python3"
    },
    "language_info": {
      "codemirror_mode": {
        "name": "ipython",
        "version": 3
      },
      "file_extension": ".py",
      "mimetype": "text/x-python",
      "name": "python",
      "nbconvert_exporter": "python",
      "pygments_lexer": "ipython3",
      "version": "3.7.13"
    }
  },
  "nbformat": 4,
  "nbformat_minor": 0
}
