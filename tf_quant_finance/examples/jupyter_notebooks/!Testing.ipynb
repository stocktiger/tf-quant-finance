{
  "cells": [
    {
      "cell_type": "code",
      "execution_count": 34,
      "metadata": {
        "id": "2nA2FSdTgcEM",
        "outputId": "5fc16840-0d8f-4ef0-c597-27df47e28e08"
      },
      "outputs": [],
      "source": [
        "import matplotlib.pyplot as plt\n",
        "import numpy as np\n",
        "import time\n",
        "import pandas as pd\n",
        "import seaborn as sns\n",
        "import tensorflow as tf\n",
        "# Import for Tensorflow Quant Finance\n",
        "import tf_quant_finance as tff \n",
        " \n",
        "# Shortcut alias\n",
        "pde = tff.math.pde\n",
        "option_price = tff.black_scholes.option_price\n",
        "implied_vol = tff.black_scholes.implied_vol\n"
      ]
    },
    {
      "cell_type": "markdown",
      "metadata": {},
      "source": [
        "### Price ETH option with closed form solution\n",
        "Can do multiple options by extending the arrays."
      ]
    },
    {
      "cell_type": "code",
      "execution_count": 35,
      "metadata": {},
      "outputs": [
        {
          "data": {
            "text/plain": [
              "(array([636.37155871]), array([0.8423321]))"
            ]
          },
          "execution_count": 35,
          "metadata": {},
          "output_type": "execute_result"
        }
      ],
      "source": [
        "forwards = np.array([3000])\n",
        "strikes = np.array([3200])\n",
        "expiries = np.array([0.5])\n",
        "volatilities = np.array([0.85])\n",
        "discount_factors = 1\n",
        "is_call_options = np.array([True])\n",
        "\n",
        "out_prices = option_price(\n",
        "      volatilities=volatilities,\n",
        "      strikes=strikes/forwards,\n",
        "      expiries=expiries,\n",
        "      forwards=forwards/forwards,\n",
        "      discount_factors=discount_factors,\n",
        "      is_call_options=is_call_options).numpy() * forwards\n",
        "\n",
        "prices = np.array([630])\n",
        "\n",
        "out_ivs = implied_vol(\n",
        "    prices=prices/forwards,\n",
        "    strikes=strikes/forwards,\n",
        "    expiries=expiries,\n",
        "    forwards=forwards/forwards,\n",
        "    validate_args=False,\n",
        "    tolerance=1e-8,\n",
        "    max_iterations=1000).numpy()\n",
        "\n",
        "out_prices, out_ivs"
      ]
    },
    {
      "cell_type": "code",
      "execution_count": 81,
      "metadata": {},
      "outputs": [],
      "source": [
        "# RestClient\n",
        "\"\"\"\n",
        "    This module implements the FtxClient class and enables interaction with the FTX exchange.\n",
        "\"\"\"\n",
        "\n",
        "import time\n",
        "import urllib.parse\n",
        "from typing import Optional, Dict, Any\n",
        "\n",
        "import hmac\n",
        "import json\n",
        "import requests\n",
        "\n",
        "class RestClient:\n",
        "    def __init__(self, api_url, api_key=None, api_secret=None, subaccount_name=None) -> None:\n",
        "        self.API_URL = api_url\n",
        "        self._api_key = api_key\n",
        "        self._api_secret = api_secret\n",
        "        self._subaccount_name = subaccount_name\n",
        "\n",
        "    def _get(self, path: str, params: Optional[Dict[str, Any]] = None) -> Any:\n",
        "        return self._request('GET', path, params=params)\n",
        "\n",
        "    def _post(self, path: str, params: Optional[Dict[str, Any]] = None) -> Any:\n",
        "        return self._request('POST', path, payload=params)\n",
        "\n",
        "    def _delete(self, path: str, params: Optional[Dict[str, Any]] = None) -> Any:\n",
        "        return self._request('DELETE', path, payload=params)\n",
        "\n",
        "    def _request(self, method: str, endpoint: str, auth: bool = True, params={}, payload={}, api=None):\n",
        "        for count in range(1,4):\n",
        "            try:\n",
        "                _payload = json.dumps(payload) if payload else ''\n",
        "                _endpoint=f'{endpoint}?{urllib.parse.urlencode(params, safe=\"/\")}' if params else _endpoint\n",
        "                if not api:\n",
        "                    api = self.API_URL\n",
        "\n",
        "                url = f'{api}{_endpoint}'\n",
        "\n",
        "                header = {}\n",
        "                if method == 'GET':\n",
        "                    response = requests.get(url, headers=header, timeout=3)\n",
        "                elif method == 'POST':\n",
        "                    response = requests.post(url, data=_payload, headers=header, timeout=3)\n",
        "                elif method == 'DELETE':\n",
        "                    response = requests.delete(url, data=_payload, headers=header, timeout=3)\n",
        "\n",
        "                data = response.json()\n",
        "                response.close()\n",
        "                return data\n",
        "            except ConnectionError as err:\n",
        "                time.sleep(0.5*count)\n",
        "            except Exception as err:\n",
        "                time.sleep(0.5*count)\n",
        "\n",
        "    def _generate_signature(self, timestamp: str, method: str, endpoint: str, data='') -> dict:\n",
        "        message = f'{timestamp}{method}{endpoint}{data}'\n",
        "        signature = hmac.new(self._api_secret.encode('utf-8'), message.encode('utf-8'), 'sha256').hexdigest()\n",
        "        return signature\n",
        "\n",
        "    def get_endpoint(self, endpoint, params={}):\n",
        "        return self._get(endpoint, params)\n",
        "\n",
        "    def post_endpoint(self, endpoint, params={}):\n",
        "        return self._post(endpoint, params)\n",
        "\n",
        "client = RestClient(\"https://defi-bot.bastioncb.com:1443/\")\n"
      ]
    },
    {
      "cell_type": "code",
      "execution_count": 160,
      "metadata": {},
      "outputs": [
        {
          "ename": "TypeError",
          "evalue": "Cannot convert the argument `type_value`: <class 'tensorflow.python.framework.dtypes.DType'> to a TensorFlow DType.",
          "output_type": "error",
          "traceback": [
            "\u001b[1;31m---------------------------------------------------------------------------\u001b[0m",
            "\u001b[1;31mTypeError\u001b[0m                                 Traceback (most recent call last)",
            "\u001b[1;32m~\\AppData\\Local\\Temp\\ipykernel_10892\\1771842707.py\u001b[0m in \u001b[0;36m<module>\u001b[1;34m\u001b[0m\n\u001b[0;32m      3\u001b[0m \u001b[1;33m\u001b[0m\u001b[0m\n\u001b[0;32m      4\u001b[0m \u001b[0mdiscount_factor_fn\u001b[0m \u001b[1;33m=\u001b[0m \u001b[0mdiscount_factor_fn1\u001b[0m\u001b[1;33m\u001b[0m\u001b[1;33m\u001b[0m\u001b[0m\n\u001b[1;32m----> 5\u001b[1;33m \u001b[0mdiscount_factor_fn\u001b[0m\u001b[1;33m(\u001b[0m\u001b[1;36m0.1\u001b[0m\u001b[1;33m)\u001b[0m\u001b[1;33m\u001b[0m\u001b[1;33m\u001b[0m\u001b[0m\n\u001b[0m",
            "\u001b[1;32m~\\AppData\\Local\\Temp\\ipykernel_10892\\1771842707.py\u001b[0m in \u001b[0;36mdiscount_factor_fn1\u001b[1;34m(t)\u001b[0m\n\u001b[0;32m      1\u001b[0m \u001b[1;32mdef\u001b[0m \u001b[0mdiscount_factor_fn1\u001b[0m\u001b[1;33m(\u001b[0m\u001b[0mt\u001b[0m\u001b[1;33m)\u001b[0m\u001b[1;33m:\u001b[0m\u001b[1;33m\u001b[0m\u001b[1;33m\u001b[0m\u001b[0m\n\u001b[1;32m----> 2\u001b[1;33m   \u001b[1;32mreturn\u001b[0m \u001b[0mtf\u001b[0m\u001b[1;33m.\u001b[0m\u001b[0mmath\u001b[0m\u001b[1;33m.\u001b[0m\u001b[0mexp\u001b[0m\u001b[1;33m(\u001b[0m\u001b[1;36m0\u001b[0m \u001b[1;33m*\u001b[0m \u001b[1;36m1\u001b[0m \u001b[1;33m*\u001b[0m \u001b[0mtf\u001b[0m\u001b[1;33m.\u001b[0m\u001b[0mconvert_to_tensor\u001b[0m\u001b[1;33m(\u001b[0m\u001b[0mt\u001b[0m\u001b[1;33m,\u001b[0m \u001b[0mdtype\u001b[0m\u001b[1;33m=\u001b[0m\u001b[0mtf\u001b[0m\u001b[1;33m.\u001b[0m\u001b[0mDType\u001b[0m\u001b[1;33m)\u001b[0m\u001b[1;33m)\u001b[0m\u001b[1;33m\u001b[0m\u001b[1;33m\u001b[0m\u001b[0m\n\u001b[0m\u001b[0;32m      3\u001b[0m \u001b[1;33m\u001b[0m\u001b[0m\n\u001b[0;32m      4\u001b[0m \u001b[0mdiscount_factor_fn\u001b[0m \u001b[1;33m=\u001b[0m \u001b[0mdiscount_factor_fn1\u001b[0m\u001b[1;33m\u001b[0m\u001b[1;33m\u001b[0m\u001b[0m\n\u001b[0;32m      5\u001b[0m \u001b[0mdiscount_factor_fn\u001b[0m\u001b[1;33m(\u001b[0m\u001b[1;36m0.1\u001b[0m\u001b[1;33m)\u001b[0m\u001b[1;33m\u001b[0m\u001b[1;33m\u001b[0m\u001b[0m\n",
            "\u001b[1;32mc:\\Users\\michael\\Anaconda3\\envs\\googletf\\lib\\site-packages\\tensorflow\\python\\util\\traceback_utils.py\u001b[0m in \u001b[0;36merror_handler\u001b[1;34m(*args, **kwargs)\u001b[0m\n\u001b[0;32m    151\u001b[0m     \u001b[1;32mexcept\u001b[0m \u001b[0mException\u001b[0m \u001b[1;32mas\u001b[0m \u001b[0me\u001b[0m\u001b[1;33m:\u001b[0m\u001b[1;33m\u001b[0m\u001b[1;33m\u001b[0m\u001b[0m\n\u001b[0;32m    152\u001b[0m       \u001b[0mfiltered_tb\u001b[0m \u001b[1;33m=\u001b[0m \u001b[0m_process_traceback_frames\u001b[0m\u001b[1;33m(\u001b[0m\u001b[0me\u001b[0m\u001b[1;33m.\u001b[0m\u001b[0m__traceback__\u001b[0m\u001b[1;33m)\u001b[0m\u001b[1;33m\u001b[0m\u001b[1;33m\u001b[0m\u001b[0m\n\u001b[1;32m--> 153\u001b[1;33m       \u001b[1;32mraise\u001b[0m \u001b[0me\u001b[0m\u001b[1;33m.\u001b[0m\u001b[0mwith_traceback\u001b[0m\u001b[1;33m(\u001b[0m\u001b[0mfiltered_tb\u001b[0m\u001b[1;33m)\u001b[0m \u001b[1;32mfrom\u001b[0m \u001b[1;32mNone\u001b[0m\u001b[1;33m\u001b[0m\u001b[1;33m\u001b[0m\u001b[0m\n\u001b[0m\u001b[0;32m    154\u001b[0m     \u001b[1;32mfinally\u001b[0m\u001b[1;33m:\u001b[0m\u001b[1;33m\u001b[0m\u001b[1;33m\u001b[0m\u001b[0m\n\u001b[0;32m    155\u001b[0m       \u001b[1;32mdel\u001b[0m \u001b[0mfiltered_tb\u001b[0m\u001b[1;33m\u001b[0m\u001b[1;33m\u001b[0m\u001b[0m\n",
            "\u001b[1;32mc:\\Users\\michael\\Anaconda3\\envs\\googletf\\lib\\site-packages\\tensorflow\\python\\framework\\dtypes.py\u001b[0m in \u001b[0;36mas_dtype\u001b[1;34m(type_value)\u001b[0m\n\u001b[0;32m    719\u001b[0m     \u001b[1;32mreturn\u001b[0m \u001b[0m_INTERN_TABLE\u001b[0m\u001b[1;33m[\u001b[0m\u001b[0mtype_value\u001b[0m\u001b[1;33m.\u001b[0m\u001b[0mas_datatype_enum\u001b[0m\u001b[1;33m]\u001b[0m\u001b[1;33m\u001b[0m\u001b[1;33m\u001b[0m\u001b[0m\n\u001b[0;32m    720\u001b[0m \u001b[1;33m\u001b[0m\u001b[0m\n\u001b[1;32m--> 721\u001b[1;33m   raise TypeError(f\"Cannot convert the argument `type_value`: {type_value!r} \"\n\u001b[0m\u001b[0;32m    722\u001b[0m                   \"to a TensorFlow DType.\")\n",
            "\u001b[1;31mTypeError\u001b[0m: Cannot convert the argument `type_value`: <class 'tensorflow.python.framework.dtypes.DType'> to a TensorFlow DType."
          ]
        }
      ],
      "source": [
        "def discount_factor_fn1(t):\n",
        "  return tf.math.exp(0 * 1 * tf.convert_to_tensor(t, dtype=tf.DType))\n",
        "\n",
        "discount_factor_fn = discount_factor_fn1\n",
        "discount_factor_fn(0.1) "
      ]
    },
    {
      "cell_type": "code",
      "execution_count": 129,
      "metadata": {},
      "outputs": [
        {
          "name": "stdout",
          "output_type": "stream",
          "text": [
            "[0.6283411]\n"
          ]
        },
        {
          "ename": "TypeError",
          "evalue": "Cannot convert the argument `type_value`: None to a TensorFlow DType.",
          "output_type": "error",
          "traceback": [
            "\u001b[1;31m---------------------------------------------------------------------------\u001b[0m",
            "\u001b[1;31mTypeError\u001b[0m                                 Traceback (most recent call last)",
            "\u001b[1;32m~\\AppData\\Local\\Temp\\ipykernel_10892\\3003681498.py\u001b[0m in \u001b[0;36m<module>\u001b[1;34m\u001b[0m\n\u001b[0;32m     43\u001b[0m   \u001b[0mspot\u001b[0m \u001b[1;33m=\u001b[0m \u001b[0mnp\u001b[0m\u001b[1;33m.\u001b[0m\u001b[0marray\u001b[0m\u001b[1;33m(\u001b[0m\u001b[1;33m[\u001b[0m\u001b[0mspot\u001b[0m\u001b[1;33m]\u001b[0m\u001b[1;33m)\u001b[0m\u001b[1;33m,\u001b[0m\u001b[1;33m\u001b[0m\u001b[1;33m\u001b[0m\u001b[0m\n\u001b[0;32m     44\u001b[0m   \u001b[0mimplied_volatility_surface\u001b[0m \u001b[1;33m=\u001b[0m \u001b[0mvolsurface\u001b[0m\u001b[1;33m,\u001b[0m\u001b[1;33m\u001b[0m\u001b[1;33m\u001b[0m\u001b[0m\n\u001b[1;32m---> 45\u001b[1;33m   \u001b[0mdiscount_factor_fn\u001b[0m \u001b[1;33m=\u001b[0m \u001b[1;32mlambda\u001b[0m \u001b[0mt\u001b[0m\u001b[1;33m:\u001b[0m \u001b[0mtf\u001b[0m\u001b[1;33m.\u001b[0m\u001b[0mmath\u001b[0m\u001b[1;33m.\u001b[0m\u001b[0mexp\u001b[0m\u001b[1;33m(\u001b[0m\u001b[1;36m0\u001b[0m \u001b[1;33m*\u001b[0m \u001b[0mt\u001b[0m\u001b[1;33m)\u001b[0m\u001b[1;33m\u001b[0m\u001b[1;33m\u001b[0m\u001b[0m\n\u001b[0m\u001b[0;32m     46\u001b[0m )\n",
            "\u001b[1;32mc:\\Users\\michael\\Anaconda3\\envs\\googletf\\lib\\site-packages\\tf_quant_finance\\experimental\\local_volatility\\local_volatility_model.py\u001b[0m in \u001b[0;36mfrom_volatility_surface\u001b[1;34m(cls, dim, spot, implied_volatility_surface, discount_factor_fn, dividend_yield, local_volatility_from_iv, times_grid, spot_grid, precompute_iv, dtype, name)\u001b[0m\n\u001b[0;32m    799\u001b[0m           \u001b[0mspot_grid\u001b[0m\u001b[1;33m=\u001b[0m\u001b[0mspot_grid\u001b[0m\u001b[1;33m,\u001b[0m\u001b[1;33m\u001b[0m\u001b[1;33m\u001b[0m\u001b[0m\n\u001b[0;32m    800\u001b[0m           \u001b[0mprecompute_iv\u001b[0m\u001b[1;33m=\u001b[0m\u001b[0mprecompute_iv\u001b[0m\u001b[1;33m,\u001b[0m\u001b[1;33m\u001b[0m\u001b[1;33m\u001b[0m\u001b[0m\n\u001b[1;32m--> 801\u001b[1;33m           dtype=dtype)\n\u001b[0m\u001b[0;32m    802\u001b[0m \u001b[1;33m\u001b[0m\u001b[0m\n\u001b[0;32m    803\u001b[0m \u001b[1;33m\u001b[0m\u001b[0m\n",
            "\u001b[1;32mc:\\Users\\michael\\Anaconda3\\envs\\googletf\\lib\\site-packages\\tf_quant_finance\\experimental\\local_volatility\\local_volatility_model.py\u001b[0m in \u001b[0;36m__init__\u001b[1;34m(self, dim, risk_free_rate, dividend_yield, local_volatility_fn, corr_matrix, times_grid, spot_grid, precompute_iv, dtype, name)\u001b[0m\n\u001b[0;32m    453\u001b[0m                                                  'dividend_yield')\n\u001b[0;32m    454\u001b[0m \u001b[1;33m\u001b[0m\u001b[0m\n\u001b[1;32m--> 455\u001b[1;33m       \u001b[0mcorr_matrix\u001b[0m \u001b[1;33m=\u001b[0m \u001b[0mcorr_matrix\u001b[0m \u001b[1;32mor\u001b[0m \u001b[0mtf\u001b[0m\u001b[1;33m.\u001b[0m\u001b[0meye\u001b[0m\u001b[1;33m(\u001b[0m\u001b[0mdim\u001b[0m\u001b[1;33m,\u001b[0m \u001b[0mdim\u001b[0m\u001b[1;33m,\u001b[0m \u001b[0mdtype\u001b[0m\u001b[1;33m=\u001b[0m\u001b[0mself\u001b[0m\u001b[1;33m.\u001b[0m\u001b[0m_dtype\u001b[0m\u001b[1;33m)\u001b[0m\u001b[1;33m\u001b[0m\u001b[1;33m\u001b[0m\u001b[0m\n\u001b[0m\u001b[0;32m    456\u001b[0m       self._rho = tf.convert_to_tensor(\n\u001b[0;32m    457\u001b[0m           corr_matrix, dtype=self._dtype, name='rho')\n",
            "\u001b[1;32mc:\\Users\\michael\\Anaconda3\\envs\\googletf\\lib\\site-packages\\tensorflow\\python\\util\\traceback_utils.py\u001b[0m in \u001b[0;36merror_handler\u001b[1;34m(*args, **kwargs)\u001b[0m\n\u001b[0;32m    151\u001b[0m     \u001b[1;32mexcept\u001b[0m \u001b[0mException\u001b[0m \u001b[1;32mas\u001b[0m \u001b[0me\u001b[0m\u001b[1;33m:\u001b[0m\u001b[1;33m\u001b[0m\u001b[1;33m\u001b[0m\u001b[0m\n\u001b[0;32m    152\u001b[0m       \u001b[0mfiltered_tb\u001b[0m \u001b[1;33m=\u001b[0m \u001b[0m_process_traceback_frames\u001b[0m\u001b[1;33m(\u001b[0m\u001b[0me\u001b[0m\u001b[1;33m.\u001b[0m\u001b[0m__traceback__\u001b[0m\u001b[1;33m)\u001b[0m\u001b[1;33m\u001b[0m\u001b[1;33m\u001b[0m\u001b[0m\n\u001b[1;32m--> 153\u001b[1;33m       \u001b[1;32mraise\u001b[0m \u001b[0me\u001b[0m\u001b[1;33m.\u001b[0m\u001b[0mwith_traceback\u001b[0m\u001b[1;33m(\u001b[0m\u001b[0mfiltered_tb\u001b[0m\u001b[1;33m)\u001b[0m \u001b[1;32mfrom\u001b[0m \u001b[1;32mNone\u001b[0m\u001b[1;33m\u001b[0m\u001b[1;33m\u001b[0m\u001b[0m\n\u001b[0m\u001b[0;32m    154\u001b[0m     \u001b[1;32mfinally\u001b[0m\u001b[1;33m:\u001b[0m\u001b[1;33m\u001b[0m\u001b[1;33m\u001b[0m\u001b[0m\n\u001b[0;32m    155\u001b[0m       \u001b[1;32mdel\u001b[0m \u001b[0mfiltered_tb\u001b[0m\u001b[1;33m\u001b[0m\u001b[1;33m\u001b[0m\u001b[0m\n",
            "\u001b[1;32mc:\\Users\\michael\\Anaconda3\\envs\\googletf\\lib\\site-packages\\tensorflow\\python\\framework\\dtypes.py\u001b[0m in \u001b[0;36mas_dtype\u001b[1;34m(type_value)\u001b[0m\n\u001b[0;32m    719\u001b[0m     \u001b[1;32mreturn\u001b[0m \u001b[0m_INTERN_TABLE\u001b[0m\u001b[1;33m[\u001b[0m\u001b[0mtype_value\u001b[0m\u001b[1;33m.\u001b[0m\u001b[0mas_datatype_enum\u001b[0m\u001b[1;33m]\u001b[0m\u001b[1;33m\u001b[0m\u001b[1;33m\u001b[0m\u001b[0m\n\u001b[0;32m    720\u001b[0m \u001b[1;33m\u001b[0m\u001b[0m\n\u001b[1;32m--> 721\u001b[1;33m   raise TypeError(f\"Cannot convert the argument `type_value`: {type_value!r} \"\n\u001b[0m\u001b[0;32m    722\u001b[0m                   \"to a TensorFlow DType.\")\n",
            "\u001b[1;31mTypeError\u001b[0m: Cannot convert the argument `type_value`: None to a TensorFlow DType."
          ]
        }
      ],
      "source": [
        "# 1. Feed Volatility surface using a processed_market_data.VolatilitySurface instance\n",
        "from tf_quant_finance.experimental.pricing_platform.framework.market_data.volatility_surface import VolatilitySurface\n",
        "spot = 31600\n",
        "\n",
        "# Construct tff native Datetensors\n",
        "import datetime\n",
        "valuation_date = tff.datetime.dates_from_datetimes([datetime.date(2022, 6, 1)])\n",
        "dates = [datetime.date(2022, 6, 2) + datetime.timedelta(days=i) for i in range(30*6+15)]\n",
        "expiries = tff.datetime.dates_from_datetimes(dates)\n",
        "\n",
        "# Construct the strike space\n",
        "dk = 1000\n",
        "strikes = np.array([10000 + dk*i for i in range(40000//dk)])\n",
        "\n",
        "# Obtain IVs from volsurface\n",
        "date_strings = \",\".join([date.strftime('%d%b%y').upper() for date in dates])\n",
        "strikes_strings = \",\".join([str(strike) for strike in strikes])\n",
        "params =  {\"symbols\": \"BTC\", \n",
        "           \"maturities\": date_strings, \n",
        "           \"strikes\": strikes_strings}\n",
        "\n",
        "# dict: { maturity: {price: iv, ... }, ... }\n",
        "response = client.get_endpoint('volsurface', params)\n",
        "\n",
        "# Parse Volsurface and prepare input format\n",
        "# 2D \n",
        "input_vols = np.empty((expiries.shape[0], strikes.shape[0]))\n",
        "\n",
        "for i, maturity in enumerate(list(response.keys())):\n",
        "  for j, price in enumerate(response[maturity]):\n",
        "    input_vols[i,j] = response[maturity][price]\n",
        "    \n",
        "# Test that it returns the right surface\n",
        "volsurface = VolatilitySurface(valuation_date, expiries, strikes, input_vols)\n",
        "\n",
        "print(volsurface.volatility(strike=np.array([32100]), \n",
        "                            expiry_dates=tff.datetime.dates_from_datetimes([datetime.date(2022, 7, 1)])).numpy())\n",
        "  \n",
        "from tf_quant_finance.experimental.local_volatility import LocalVolatilityModel\n",
        "\n",
        "LocalVolatilityModel.from_volatility_surface(\n",
        "  dim = 1,\n",
        "  spot = np.array([spot]),\n",
        "  implied_volatility_surface = volsurface,\n",
        "  discount_factor_fn = lambda t: tf.math.exp(0 * t)\n",
        ")"
      ]
    },
    {
      "cell_type": "markdown",
      "metadata": {},
      "source": [
        "1. Feed Volatility surface using a processed_market_data.VolatilitySurface instance\n",
        "2. Initialise it in pricing_platform\\framework\\market_data\\volatility_surface.py -> VolatilitySurface()\n",
        "3. Initialise LocalVolatilityModel.from_volatility_surface()\n",
        "4. Feed LocalVolatilityModel.local_volatility_fn()\n"
      ]
    },
    {
      "cell_type": "code",
      "execution_count": null,
      "metadata": {},
      "outputs": [],
      "source": [
        "\n",
        "# Parse Volsurface and prepare input format\n",
        "# inpt_strikes = []\n",
        "# inpt_expiries = []\n",
        "# inpt_vols = []\n",
        "cp_vols = np.empty((expiries.shape[0], strikes.shape[0]))\n",
        "\n",
        "for i, maturity in enumerate(list(response.keys())):\n",
        "  for j, price in enumerate(response[maturity]):\n",
        "    # inpt_strikes.append(float(price))\n",
        "    # inpt_expiries.append(datetime.datetime.strptime(maturity, '%d%b%y').date())\n",
        "    # inpt_vols.append(response[maturity][price])\n",
        "    cp_vols[i,j] = response[maturity][price]\n",
        "    \n",
        "# inpt_strikes = np.array(inpt_strikes)\n",
        "# inpt_expiries = tff.datetime.dates_from_datetimes(inpt_expiries)\n",
        "# inpt_vols = np.array(inpt_vols)\n",
        "\n",
        "# Test that it returns the right surface"
      ]
    },
    {
      "cell_type": "markdown",
      "metadata": {},
      "source": [
        "### MC pricing of a vanilla option with custom vol and drift model"
      ]
    },
    {
      "cell_type": "code",
      "execution_count": 36,
      "metadata": {},
      "outputs": [
        {
          "data": {
            "text/plain": [
              "array([[636.32154772]])"
            ]
          },
          "execution_count": 36,
          "metadata": {},
          "output_type": "execute_result"
        }
      ],
      "source": [
        "#@title Set up parameters\n",
        "\n",
        "dtype = np.float64 #@param\n",
        "num_samples = 10**6 #@param\n",
        "\n",
        "num_timesteps = 100 #@param\n",
        "\n",
        "expiries = [0.5] # This can be a rank 1 Tensor\n",
        "dt = 1. / num_timesteps\n",
        "rate = tf.constant(0, dtype=dtype)\n",
        "sigma = tf.constant(0.85, dtype=dtype)\n",
        "spot = tf.constant(3000, dtype=dtype)\n",
        "\n",
        "strikes = tf.constant([3200], dtype=dtype)\n",
        "\n",
        "def set_up_pricer(expiries, watch_params=False):\n",
        "    \"\"\"Set up European option pricing function under Black-Scholes model.\n",
        "    \n",
        "    Args:\n",
        "        expiries: List of expiries at which to to sample the trajectories.\n",
        "        watch_params: A Python bool. When `True`, gradients of the price function wrt the inputs\n",
        "          are computed more efficiently. \n",
        "    Returns:\n",
        "     A callable that accepts a rank 1 tensor of strikes, and scalar values for \n",
        "     the spots and  volatility values. The callable outputs prices of\n",
        "     the European call options on the grid `expiries x strikes`.\n",
        "    \"\"\"\n",
        "    def price_eu_options(strikes, spot, sigma):\n",
        "        # Define drift and volatility functions. \n",
        "        \n",
        "        def drift_fn(t, x):\n",
        "          del t, x\n",
        "          return rate - 0.5 * sigma**2\n",
        "        \n",
        "        # Can modify to include a different vol model\n",
        "        def vol_fn(t, x):\n",
        "          del t, x\n",
        "          return tf.reshape(sigma, [1, 1])\n",
        "        \n",
        "        # Use GenericItoProcess class to set up the Ito process\n",
        "        process = tff.models.GenericItoProcess(\n",
        "            dim=1,\n",
        "            drift_fn=drift_fn,\n",
        "            volatility_fn=vol_fn,\n",
        "            dtype=dtype)\n",
        "        \n",
        "        log_spot = tf.math.log(tf.reduce_mean(spot))\n",
        "        \n",
        "        if watch_params:\n",
        "            watch_params_list = [sigma]\n",
        "        else:\n",
        "            watch_params_list = None\n",
        "            \n",
        "        paths = process.sample_paths(\n",
        "            expiries, num_samples=num_samples,\n",
        "            initial_state=log_spot, \n",
        "            watch_params=watch_params_list,\n",
        "            # Select a random number generator\n",
        "            random_type=tff.math.random.RandomType.PSEUDO_ANTITHETIC,\n",
        "            time_step=dt)\n",
        "        \n",
        "        prices = (tf.exp(-tf.expand_dims(rate * expiries, axis=-1))\n",
        "                  * tf.reduce_mean(tf.nn.relu(tf.math.exp(paths) - strikes), 0))\n",
        "        \n",
        "        return prices\n",
        "      \n",
        "    return price_eu_options\n",
        "\n",
        "price_eu_options = tf.function(set_up_pricer(expiries))\n",
        "\n",
        "price_eu_options(strikes, spot, sigma).numpy()"
      ]
    },
    {
      "cell_type": "markdown",
      "metadata": {},
      "source": [
        "### Integrate local vol model into the MC solver "
      ]
    },
    {
      "cell_type": "code",
      "execution_count": null,
      "metadata": {},
      "outputs": [],
      "source": []
    },
    {
      "cell_type": "markdown",
      "metadata": {
        "id": "KsVBo68Fabgt"
      },
      "source": [
        " ### American Option pricer using the PDE solver\n",
        "   American option price $V(x, t)$ of an option with spot price $x$ at time $t$\n",
        "   under Black-Scholes model satisfies the following PDE\n",
        "   $$V_{t} + \\frac{\\sigma^2}{2}  x^2  V_{xx} + r  x  V_{x}\n",
        " - r  V(t, x) = 0.$$\n",
        "  Tensorflow Quant Finance library provides tools for solving Parabolic PDE's\n",
        "  of the form  \n",
        "  $$V_{t} + \\frac{a(t, x)}{2}  V_{xx} + b(t, x) V_{x} - c(t, x)  V = 0$$\n",
        "\n",
        "  Henceforth,\n",
        "  $a(t, x)$, $b(t, x)$, and $c(t, x)$ are referred to as quadratic, linear and\n",
        "  shift coefficients, respectively. We describe in details how to write a\n",
        "  custom pricer that is both batchable (i.e., multiple equations can be solved\n",
        "  simultaneously) and compatible with an NVIDIA GPU. \n"
      ]
    },
    {
      "cell_type": "code",
      "execution_count": 37,
      "metadata": {
        "cellView": "form",
        "id": "13_gS0ZIBw2x"
      },
      "outputs": [],
      "source": [
        "\n",
        "# tf.function decorator makes the function faster in graph mode.\n",
        "@tf.function\n",
        "def american_option(number_grid_points,\n",
        "                    time_delta,\n",
        "                    strike,\n",
        "                    volatility,\n",
        "                    risk_free_rate,\n",
        "                    expiry,\n",
        "                    dtype=tf.float64):\n",
        "  \"\"\" Computes American Call options prices.\n",
        "\n",
        "  Args:\n",
        "    number_grid_points: A Python int. Number of grid points for the finite\n",
        "      difference scheme.\n",
        "    time_delta: A Python float. Grid time discretization parameter.\n",
        "    strike: A real `Tensor` of shape `(number_of_options, 1)`.\n",
        "      Represents the strikes of the underlying American options. \n",
        "    volatility: A real `Tensor` of shape `(number_of_options, 1)`.\n",
        "      Represents the volatilities of the underlying American options. \n",
        "    risk_free_rate: A real `Tensor` of shape `(number_of_options, 1)`.\n",
        "      Represents the risk-free interest rates associated with the underlying\n",
        "      American options.\n",
        "    expiry: A Python float. Expiry date of the options. If the options\n",
        "      have different expiries, volatility term has to adjusted to\n",
        "      make expiries the same.\n",
        "    dtype: Optional `tf.dtype` used to assert dtype of the input `Tensor`s.\n",
        "\n",
        "  Returns:\n",
        "    A tuple of the estimated option prices of shape\n",
        "    `(number_of_options, number_grid_points)` and the corresponding `Tensor` \n",
        "    of grid locations of shape `(number_grid_points,)`.\n",
        "  \"\"\"\n",
        "  # Define the coordinate grid\n",
        "  s_min = 0.01\n",
        "  s_max = 300.\n",
        "  grid = pde.grids.uniform_grid(minimums=[s_min],\n",
        "                                maximums=[s_max],\n",
        "                                sizes=[number_grid_points],\n",
        "                                dtype=dtype)\n",
        "\n",
        "  # Define the values grid for the final condition\n",
        "  s = grid[0]\n",
        "  final_values_grid = tf.nn.relu(s - strike)\n",
        "\n",
        "  # Define the PDE coefficient functions\n",
        "  def second_order_coeff_fn(t, grid):\n",
        "    del t\n",
        "    s = grid[0]\n",
        "    return [[volatility ** 2 * s ** 2 / 2]]\n",
        "\n",
        "  def first_order_coeff_fn(t, grid):\n",
        "    del t\n",
        "    s = grid[0]\n",
        "    return [risk_free_rate * s]\n",
        "\n",
        "  def zeroth_order_coeff_fn(t, grid):\n",
        "    del t, grid\n",
        "    return -risk_free_rate\n",
        "\n",
        "  # Define the boundary conditions\n",
        "  @pde.boundary_conditions.dirichlet\n",
        "  def lower_boundary_fn(t, grid):\n",
        "    del t, grid\n",
        "    return tf.constant(0.0, dtype=dtype)\n",
        "\n",
        "  @pde.boundary_conditions.dirichlet\n",
        "  def upper_boundary_fn(t, grid):\n",
        "    del grid\n",
        "    return tf.squeeze(s_max - strike * tf.exp(-risk_free_rate * (expiry - t)))\n",
        "\n",
        "  # In order to price American option one needs to set option values to \n",
        "  # V(x) := max(V(x), max(x - strike, 0)) after each iteration\n",
        "  def values_transform_fn(t, grid, values):\n",
        "    del t\n",
        "    s = grid[0]\n",
        "    values_floor = tf.nn.relu(s - strike)\n",
        "    return grid, tf.maximum(values, values_floor)\n",
        "\n",
        "  # Solve\n",
        "  estimate_values, estimate_grid, _, _ = \\\n",
        "    pde.fd_solvers.solve_backward(\n",
        "      start_time=expiry,\n",
        "      end_time=0,\n",
        "      values_transform_fn=values_transform_fn,\n",
        "      coord_grid=grid,\n",
        "      values_grid=final_values_grid,\n",
        "      time_step=time_delta,\n",
        "      boundary_conditions=[(lower_boundary_fn, upper_boundary_fn)],\n",
        "      second_order_coeff_fn=second_order_coeff_fn,\n",
        "      first_order_coeff_fn=first_order_coeff_fn,\n",
        "      zeroth_order_coeff_fn=zeroth_order_coeff_fn,\n",
        "      dtype=dtype\n",
        "    )\n",
        "  return estimate_values, estimate_grid[0]\n",
        "\n",
        "def option_param(number_of_options, dtype, seed=42):\n",
        "  \"\"\" Function to generate volatilities, rates, strikes \"\"\"\n",
        "  np.random.seed(seed)\n",
        "  if number_of_options > 1:\n",
        "    volatility = tf.random.uniform(shape=(number_of_options, 1),\n",
        "                                   dtype=dtype) * 0.1 + 0.3\n",
        "    # Random risk free rate between 0 and 0.2.\n",
        "    risk_free_rate = tf.constant(\n",
        "      np.random.rand(number_of_options, 1) * 0.05, dtype)\n",
        "    # Random strike between 20 and 120.\n",
        "    strike = tf.constant(\n",
        "      np.random.rand(number_of_options, 1) * 100 + 50, dtype)\n",
        "  else:\n",
        "    volatility = tf.constant([0.3], dtype)\n",
        "    risk_free_rate = tf.constant([0.05], dtype)\n",
        "    strike = tf.constant([50], dtype)\n",
        "  return volatility, risk_free_rate, strike"
      ]
    },
    {
      "cell_type": "markdown",
      "metadata": {
        "id": "OnijmIHSD5_a"
      },
      "source": [
        "### Batching\n",
        "\n",
        "* Batching is a powerful feature of design of Tensorflow.\n",
        "* TFF leverages this strongly.\n",
        "* Most methods can accept a \"batch\" of inputs.\n",
        "* Example below (Batch of American Call Options with varying strikes, vols and rates).\n",
        "\n"
      ]
    },
    {
      "cell_type": "code",
      "execution_count": 47,
      "metadata": {
        "id": "qAPYRpLIEgPH"
      },
      "outputs": [],
      "source": [
        "#@title Price multiple American Call options at a time\n",
        "\n",
        "number_of_options = 10 #@param\n",
        "\n",
        "time_delta = 0.005\n",
        "\n",
        "expiry = 1.0  \n",
        "\n",
        "number_grid_points = 1024 \n",
        "\n",
        "dtype = tf.float64 \n",
        "\n",
        "spot = 110  + tf.random.uniform(shape=[number_of_options, 1], dtype=dtype)\n",
        "\n",
        "# Generate volatilities, rates, strikes\n",
        "volatility, risk_free_rate, strike = option_param(number_of_options, dtype)\n",
        "\n",
        "# Build a graph to compute prices of the American Options.\n",
        "estimate, grid_locations = american_option(\n",
        "    time_delta=time_delta,\n",
        "    expiry=expiry,\n",
        "    number_grid_points=number_grid_points,\n",
        "    volatility=volatility,\n",
        "    risk_free_rate=risk_free_rate,\n",
        "    strike=strike,\n",
        "    dtype=dtype)\n",
        "\n",
        "# Convert to numpy for plotting\n",
        "estimate = estimate.numpy()\n",
        "grid_locations = grid_locations.numpy()"
      ]
    },
    {
      "cell_type": "code",
      "execution_count": 39,
      "metadata": {
        "cellView": "form",
        "colab": {
          "base_uri": "https://localhost:8080/",
          "height": 535
        },
        "id": "I7eAh-_Z3jdK",
        "outputId": "d1526452-0d1b-4ae1-9914-b7410d8027db"
      },
      "outputs": [
        {
          "data": {
            "image/png": "[encoded data removed]",
            "text/plain": [
              "<Figure size 720x576 with 1 Axes>"
            ]
          },
          "metadata": {
            "needs_background": "light"
          },
          "output_type": "display_data"
        }
      ],
      "source": [
        "#@title Price/spot plot for the American Call options\n",
        "# Prepare data for plotting \n",
        "options = [x + 1 for x in range(number_of_options) for _ in range(1024)]\n",
        "plot_data = pd.DataFrame({\n",
        "    'Spot': list(np.ndarray.flatten(grid_locations)) * number_of_options, \n",
        "    'Price': estimate.flatten(),\n",
        "    'Option': options})\n",
        "\n",
        "\n",
        "# Plot\n",
        "plt.figure(figsize=(10, 8))\n",
        "sns.set(style=\"darkgrid\")\n",
        "sns.set_context(\"paper\", font_scale=1.5, rc={\"lines.linewidth\": 2.5})\n",
        "plot = sns.lineplot(x=\"Spot\", y=\"Price\", hue=\"Option\",\n",
        "                    data=plot_data,\n",
        "                    palette=sns.color_palette()[:number_of_options],\n",
        "                    legend=False)\n",
        "plot.axes.set_title(f\"Price/Spot for {number_of_options} American Call Options\",\n",
        "                    fontsize=25)\n",
        "xlabel = plot.axes.get_xlabel()\n",
        "ylabel = plot.axes.get_ylabel()\n",
        "plot.axes.set_xlabel(xlabel, fontsize=20)\n",
        "plot.axes.set_ylabel(ylabel, fontsize=20)\n",
        "plt.show()"
      ]
    },
    {
      "cell_type": "markdown",
      "metadata": {
        "id": "B4Y5lQV3S9l8"
      },
      "source": [
        "### GPU Implementation"
      ]
    },
    {
      "cell_type": "code",
      "execution_count": 40,
      "metadata": {
        "cellView": "form",
        "colab": {
          "base_uri": "https://localhost:8080/"
        },
        "id": "YCWMBrv-S87k",
        "outputId": "c61ae5e1-0df2-47f9-c2ba-b30b15a25812"
      },
      "outputs": [
        {
          "name": "stdout",
          "output_type": "stream",
          "text": [
            "------------------------\n",
            "Tensorflow GPU\n",
            "wall time:  7.320438623428345\n",
            "options per second:  1366.0383638756266\n",
            "------------------------\n"
          ]
        }
      ],
      "source": [
        "#@title Tensorflow Finance pricing on GPU\n",
        "\n",
        "number_of_options = 10000  #@param\n",
        "\n",
        "time_delta = 0.005\n",
        "\n",
        "expiry = 1.0 \n",
        "\n",
        "number_grid_points = 1024\n",
        "\n",
        "dtype = tf.float64\n",
        "\n",
        "# Generate volatilities, rates, strikes\n",
        "volatility, risk_free_rate, strike = option_param(number_of_options, dtype)\n",
        "\n",
        "device = \"/gpu:0\"\n",
        "with tf.device(device):\n",
        "  \n",
        "  # Warmup (graph construction + graph optimization)\n",
        "  estimate, _ = american_option(\n",
        "      time_delta=time_delta,\n",
        "      expiry=expiry,\n",
        "      number_grid_points=number_grid_points, \n",
        "      volatility=volatility,\n",
        "      risk_free_rate=risk_free_rate,\n",
        "      strike=strike,\n",
        "      dtype=dtype)\n",
        "\n",
        "  # Timed run\n",
        "  t = time.time()\n",
        "  estimate, _ = american_option(\n",
        "      time_delta=time_delta,\n",
        "      expiry=expiry,\n",
        "      number_grid_points=number_grid_points, \n",
        "      volatility=volatility,\n",
        "      risk_free_rate=risk_free_rate,\n",
        "      strike=strike,\n",
        "      dtype=dtype)\n",
        "  time_gpu = time.time() - t\n",
        "    \n",
        "gpu_options_per_second = number_of_options / time_gpu\n",
        "print('------------------------')\n",
        "print('Tensorflow GPU')\n",
        "print('wall time: ', time_gpu)\n",
        "print('options per second: ', gpu_options_per_second)\n",
        "print('------------------------')"
      ]
    }
  ],
  "metadata": {
    "accelerator": "GPU",
    "colab": {
      "collapsed_sections": [
        "OnijmIHSD5_a"
      ],
      "name": "American_Option_Black_Scholes.ipynb",
      "provenance": [],
      "toc_visible": true
    },
    "interpreter": {
      "hash": "b350f627e7d2a29f05688dace40c3849ed1144345c746428335ab17f9b657d2e"
    },
    "kernelspec": {
      "display_name": "Python 3.7.13 ('googletf')",
      "language": "python",
      "name": "python3"
    },
    "language_info": {
      "codemirror_mode": {
        "name": "ipython",
        "version": 3
      },
      "file_extension": ".py",
      "mimetype": "text/x-python",
      "name": "python",
      "nbconvert_exporter": "python",
      "pygments_lexer": "ipython3",
      "version": "3.7.13"
    }
  },
  "nbformat": 4,
  "nbformat_minor": 0
}
