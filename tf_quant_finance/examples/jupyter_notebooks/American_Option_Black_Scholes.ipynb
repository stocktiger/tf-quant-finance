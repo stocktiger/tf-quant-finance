{
  "cells": [
    {
      "cell_type": "markdown",
      "metadata": {
        "id": "EheA5_j_cEwc"
      },
      "source": [
        "##### Copyright 2019 Google LLC.\n",
        "\n",
        "Licensed under the Apache License, Version 2.0 (the \"License\");"
      ]
    },
    {
      "cell_type": "code",
      "execution_count": null,
      "metadata": {
        "id": "YCriMWd-pRTP"
      },
      "outputs": [],
      "source": [
        "#@title Licensed under the Apache License, Version 2.0 (the \"License\"); { display-mode: \"form\" }\n",
        "# you may not use this file except in compliance with the License.\n",
        "# You may obtain a copy of the License at\n",
        "#\n",
        "# https://www.apache.org/licenses/LICENSE-2.0\n",
        "#\n",
        "# Unless required by applicable law or agreed to in writing, software\n",
        "# distributed under the License is distributed on an \"AS IS\" BASIS,\n",
        "# WITHOUT WARRANTIES OR CONDITIONS OF ANY KIND, either express or implied.\n",
        "# See the License for the specific language governing permissions and\n",
        "# limitations under the License."
      ]
    },
    {
      "cell_type": "markdown",
      "metadata": {
        "id": "OvRwFTkqcp1e"
      },
      "source": [
        "# American Option Pricing in TFF under the Black-Scholes Model\n",
        "\n",
        "<table class=\"tfo-notebook-buttons\" align=\"left\">\n",
        "  <td>\n",
        "    <a target=\"_blank\" href=\"https://colab.research.google.com/github/google/tf-quant-finance/blob/master/tf_quant_finance/examples/jupyter_notebooks/American_Option_Black_Scholes.ipynb\"><img src=\"https://www.tensorflow.org/images/colab_logo_32px.png\" />Run in Google Colab</a>\n",
        "  </td>\n",
        "  <td>\n",
        "    <a target=\"_blank\" href=\"https://github.com/google/tf-quant-finance/blob/master/tf_quant_finance/examples/jupyter_notebooks/American_Option_Black_Scholes.ipynb\"><img src=\"https://www.tensorflow.org/images/GitHub-Mark-32px.png\" />View source on GitHub</a>\n",
        "  </td>\n",
        "</table>"
      ]
    },
    {
      "cell_type": "code",
      "execution_count": null,
      "metadata": {
        "cellView": "form",
        "id": "uG8UAZXjeUhf"
      },
      "outputs": [],
      "source": [
        "#@title Upgrade to TensorFlow 2.5+\n",
        "!pip install --upgrade tensorflow --user"
      ]
    },
    {
      "cell_type": "code",
      "execution_count": null,
      "metadata": {
        "cellView": "form",
        "colab": {
          "base_uri": "https://localhost:8080/"
        },
        "id": "aijwbAA8u_IM",
        "outputId": "58ba5990-23e9-401c-d446-c56746d7892c"
      },
      "outputs": [
        {
          "name": "stdout",
          "output_type": "stream",
          "text": [
            "Collecting tf-quant-finance\n",
            "  Downloading tf_quant_finance-0.0.1.dev27-py2.py3-none-any.whl (1.4 MB)\n",
            "\u001b[K     |████████████████████████████████| 1.4 MB 9.4 MB/s eta 0:00:01\n",
            "\u001b[?25hRequirement already satisfied: protobuf in /opt/conda/lib/python3.7/site-packages (from tf-quant-finance) (3.16.0)\n",
            "Requirement already satisfied: numpy>=1.19.2 in /opt/conda/lib/python3.7/site-packages (from tf-quant-finance) (1.19.5)\n",
            "Requirement already satisfied: tensorflow-probability>=0.11.0 in /opt/conda/lib/python3.7/site-packages (from tf-quant-finance) (0.13.0rc0)\n",
            "Requirement already satisfied: attrs>=18.2.0 in /opt/conda/lib/python3.7/site-packages (from tf-quant-finance) (21.2.0)\n",
            "Requirement already satisfied: six>=1.10.0 in /opt/conda/lib/python3.7/site-packages (from tensorflow-probability>=0.11.0->tf-quant-finance) (1.16.0)\n",
            "Requirement already satisfied: dm-tree in /opt/conda/lib/python3.7/site-packages (from tensorflow-probability>=0.11.0->tf-quant-finance) (0.1.6)\n",
            "Requirement already satisfied: gast>=0.3.2 in /opt/conda/lib/python3.7/site-packages (from tensorflow-probability>=0.11.0->tf-quant-finance) (0.4.0)\n",
            "Requirement already satisfied: decorator in /opt/conda/lib/python3.7/site-packages (from tensorflow-probability>=0.11.0->tf-quant-finance) (5.0.9)\n",
            "Requirement already satisfied: cloudpickle>=1.3 in /opt/conda/lib/python3.7/site-packages (from tensorflow-probability>=0.11.0->tf-quant-finance) (1.6.0)\n",
            "Installing collected packages: tf-quant-finance\n",
            "Successfully installed tf-quant-finance-0.0.1.dev27\n"
          ]
        }
      ],
      "source": [
        "#@title Install TF Quant Finance\n",
        "!pip install tf-quant-finance"
      ]
    },
    {
      "cell_type": "code",
      "execution_count": 1,
      "metadata": {
        "cellView": "form",
        "colab": {
          "base_uri": "https://localhost:8080/"
        },
        "id": "roUegEh5eh04",
        "outputId": "db3ddb25-3824-4ea4-ac37-23224969d671"
      },
      "outputs": [
        {
          "name": "stdout",
          "output_type": "stream",
          "text": [
            "Collecting QuantLib-Python\n",
            "  Downloading QuantLib_Python-1.18-py2.py3-none-any.whl (1.4 kB)\n",
            "Collecting QuantLib\n",
            "  Downloading QuantLib-1.26-cp37-cp37m-win_amd64.whl (12.2 MB)\n",
            "Installing collected packages: QuantLib, QuantLib-Python\n",
            "Successfully installed QuantLib-1.26 QuantLib-Python-1.18\n"
          ]
        }
      ],
      "source": [
        "#@title Install QuantLib\n",
        "!pip install QuantLib-Python"
      ]
    },
    {
      "cell_type": "markdown",
      "metadata": {
        "id": "ku46LPe6Jswv"
      },
      "source": [
        "### This notebook demonstrates the use of low level Tensorflow Quant Finance tools for American Option pricing under the Black-Scholes model with emphasis on the following aspects:\n",
        "\n",
        "  * **Batching**: Tensorflow is vectorized out of the box. Tensorflow Finance (TFF) written to leverage this wherever possible.\n",
        "    * Most methods accept a \"batch\" of inputs.\n",
        "  * **Hardware Accelerators**: Tensorflow supports GPUs without any code changes. Significant speedups with no code change.\n",
        "    * Write the model once and run it on CPU or GPU.\n",
        "    * Use XLA-compiler to improve performance. \n",
        "\n",
        "      **NB** PDE solvers rely on tridiagonal equation system solver. At the moment JIT compilation uses Thomas algorithm for all platforms (both CPUs and GPUs) so speed up from XLA compilation is only observed for CPU devices. \n",
        "\n",
        "The reported numbers below are obtained using standard Colab runtime on\n",
        "[`n1-highmem-2`](https://cloud.google.com/compute/docs/general-purpose-machines#n1_machines) VM with `Tesla V100 GPU`\n",
        "\n",
        "\n"
      ]
    },
    {
      "cell_type": "code",
      "execution_count": 2,
      "metadata": {
        "colab": {
          "base_uri": "https://localhost:8080/"
        },
        "id": "RNwEimy9MzVm",
        "outputId": "f98d6787-5ed2-475c-83b2-15e6b099c477"
      },
      "outputs": [
        {
          "name": "stdout",
          "output_type": "stream",
          "text": [
            "Mon May 30 18:11:44 2022       \n",
            "+-----------------------------------------------------------------------------+\n",
            "| NVIDIA-SMI 471.68       Driver Version: 471.68       CUDA Version: 11.4     |\n",
            "|-------------------------------+----------------------+----------------------+\n",
            "| GPU  Name            TCC/WDDM | Bus-Id        Disp.A | Volatile Uncorr. ECC |\n",
            "| Fan  Temp  Perf  Pwr:Usage/Cap|         Memory-Usage | GPU-Util  Compute M. |\n",
            "|                               |                      |               MIG M. |\n",
            "|===============================+======================+======================|\n",
            "|   0  NVIDIA RTX A4000   WDDM  | 00000000:01:00.0  On |                  Off |\n",
            "| 41%   43C    P8    17W / 140W |   1292MiB / 16376MiB |     11%      Default |\n",
            "|                               |                      |                  N/A |\n",
            "+-------------------------------+----------------------+----------------------+\n",
            "                                                                               \n",
            "+-----------------------------------------------------------------------------+\n",
            "| Processes:                                                                  |\n",
            "|  GPU   GI   CI        PID   Type   Process name                  GPU Memory |\n",
            "|        ID   ID                                                   Usage      |\n",
            "|=============================================================================|\n",
            "|    0   N/A  N/A      1808    C+G   C:\\Windows\\explorer.exe         N/A      |\n",
            "|    0   N/A  N/A      1896    C+G   Insufficient Permissions        N/A      |\n",
            "|    0   N/A  N/A      2188    C+G   ...bbwe\\Microsoft.Photos.exe    N/A      |\n",
            "|    0   N/A  N/A      3520    C+G   ...8bbwe\\Microsoft.Notes.exe    N/A      |\n",
            "|    0   N/A  N/A      7240    C+G   ...ekyb3d8bbwe\\YourPhone.exe    N/A      |\n",
            "|    0   N/A  N/A      8924    C+G   ...5n1h2txyewy\\SearchApp.exe    N/A      |\n",
            "|    0   N/A  N/A      9192    C+G   ...me\\Application\\chrome.exe    N/A      |\n",
            "|    0   N/A  N/A      9712    C+G   ...2txyewy\\TextInputHost.exe    N/A      |\n",
            "|    0   N/A  N/A     10188    C+G   ...\\app-1.0.9004\\Discord.exe    N/A      |\n",
            "|    0   N/A  N/A     10852    C+G   ...ype for Desktop\\Skype.exe    N/A      |\n",
            "|    0   N/A  N/A     11016    C+G   ...ype for Desktop\\Skype.exe    N/A      |\n",
            "|    0   N/A  N/A     12264    C+G   ...\\Direct4\\jabra-direct.exe    N/A      |\n",
            "|    0   N/A  N/A     13276    C+G   ...y\\ShellExperienceHost.exe    N/A      |\n",
            "|    0   N/A  N/A     15620    C+G   ...icrosoft VS Code\\Code.exe    N/A      |\n",
            "|    0   N/A  N/A     16124    C+G   ...signal-desktop\\Signal.exe    N/A      |\n",
            "|    0   N/A  N/A     16736    C+G   ...210.53\\msedgewebview2.exe    N/A      |\n",
            "|    0   N/A  N/A     16960    C+G   ...gram Desktop\\Telegram.exe    N/A      |\n",
            "|    0   N/A  N/A     17504    C+G   ...root\\Office16\\OUTLOOK.EXE    N/A      |\n",
            "+-----------------------------------------------------------------------------+\n"
          ]
        }
      ],
      "source": [
        "# Get GPU info\n",
        "!nvidia-smi"
      ]
    },
    {
      "cell_type": "code",
      "execution_count": null,
      "metadata": {
        "id": "m8zQZExTNEAC"
      },
      "outputs": [],
      "source": [
        "# Get CPU info\n",
        "!cat /proc/cpuinfo"
      ]
    },
    {
      "cell_type": "code",
      "execution_count": 39,
      "metadata": {},
      "outputs": [
        {
          "name": "stdout",
          "output_type": "stream",
          "text": [
            "TRUE\n"
          ]
        }
      ],
      "source": [
        "import tensorflow as tf\n",
        "\n",
        "dtype=tf.float64\n",
        "@tf.function\n",
        "def isclose(a, b, rel_tol=tf.constant(1e-04, dtype=tf.float64), abs_tol=tf.constant(0.0, dtype=tf.float64)):\n",
        "    return tf.math.less_equal(tf.math.abs(a-b), tf.math.maximum(rel_tol * tf.math.maximum(tf.math.abs(a), tf.math.abs(b)), abs_tol))\n",
        "\n",
        "t = tf.constant(0.1000005, dtype=tf.float64)\n",
        "if tf.math.reduce_any(isclose(tf.range(0, 1, 0.1, dtype=dtype), t)):\n",
        "    print(\"TRUE\")\n",
        "\n",
        "\n"
      ]
    },
    {
      "cell_type": "code",
      "execution_count": 128,
      "metadata": {},
      "outputs": [
        {
          "data": {
            "text/plain": [
              "(<tf.Tensor: shape=(102400,), dtype=float64, numpy=\n",
              " array([1.00000000e-02, 4.00628717e-01, 7.91257434e-01, ...,\n",
              "        3.99992187e+04, 3.99996094e+04, 4.00000000e+04])>,\n",
              " array([1.00000000e-02, 4.00628717e-01, 7.91257434e-01, ...,\n",
              "        3.99992187e+04, 3.99996094e+04, 4.00000000e+04]))"
            ]
          },
          "execution_count": 128,
          "metadata": {},
          "output_type": "execute_result"
        },
        {
          "data": {
            "image/png": "[encoded data removed]",
            "text/plain": [
              "<Figure size 1512x1008 with 1 Axes>"
            ]
          },
          "metadata": {},
          "output_type": "display_data"
        }
      ],
      "source": [
        "import tf_quant_finance as tff \n",
        "import pandas as pd\n",
        " \n",
        "# Shortcut alias\n",
        "pde = tff.math.pde\n",
        "price_range = (0.01, 40000)\n",
        "s_min, s_max = price_range\n",
        "number_grid_points = 102400\n",
        "barrier = tf.constant([30000], dtype)\n",
        "strike = tf.constant([15000], dtype)\n",
        "vanilla_type=\"put\"\n",
        "ko_type=\"up-and-in\"\n",
        "\n",
        "grid = pde.grids.uniform_grid(minimums=[s_min],\n",
        "                        maximums=[s_max],\n",
        "                        sizes=[number_grid_points],\n",
        "                        dtype=dtype)\n",
        "s = grid[0]\n",
        "risk_free_rate = 0.00001\n",
        "volatility = 0.8\n",
        "time_delta = 0.1/365\n",
        "delta_s = (s_max-s_min)/(number_grid_points-1)\n",
        "eta = 2* risk_free_rate * s / (2*delta_s)\n",
        "con_1 = tf.less(delta_s**2 / s**2, volatility**2 /eta)\n",
        "con_2 = tf.less(1/(0.5*time_delta), volatility**2 * (s**2)/(delta_s**2) + risk_free_rate)\n",
        "pd.DataFrame((con_1 & con_2).numpy().astype(int)).plot()\n",
        "s, np.linspace(s_min, s_max, num=number_grid_points)\n"
      ]
    },
    {
      "cell_type": "code",
      "execution_count": 108,
      "metadata": {},
      "outputs": [
        {
          "ename": "TypeError",
          "evalue": "barrier_price() takes 0 positional arguments but 11 were given",
          "output_type": "error",
          "traceback": [
            "\u001b[1;31m---------------------------------------------------------------------------\u001b[0m",
            "\u001b[1;31mTypeError\u001b[0m                                 Traceback (most recent call last)",
            "\u001b[1;32mc:\\Users\\owen.tam\\Documents\\owen\\projects\\tf-quant-finance\\tf_quant_finance_\\examples\\jupyter_notebooks\\American_Option_Black_Scholes.ipynb Cell 12'\u001b[0m in \u001b[0;36m<cell line: 16>\u001b[1;34m()\u001b[0m\n\u001b[0;32m     <a href='vscode-notebook-cell:/c%3A/Users/owen.tam/Documents/owen/projects/tf-quant-finance/tf_quant_finance_/examples/jupyter_notebooks/American_Option_Black_Scholes.ipynb#ch0000028?line=12'>13</a>\u001b[0m is_knock_out \u001b[39m=\u001b[39m np\u001b[39m.\u001b[39marray([\u001b[39mTrue\u001b[39;00m, \u001b[39mFalse\u001b[39;00m])\n\u001b[0;32m     <a href='vscode-notebook-cell:/c%3A/Users/owen.tam/Documents/owen/projects/tf-quant-finance/tf_quant_finance_/examples/jupyter_notebooks/American_Option_Black_Scholes.ipynb#ch0000028?line=13'>14</a>\u001b[0m is_call_option \u001b[39m=\u001b[39m np\u001b[39m.\u001b[39marray([\u001b[39mFalse\u001b[39;00m, \u001b[39mTrue\u001b[39;00m])\n\u001b[1;32m---> <a href='vscode-notebook-cell:/c%3A/Users/owen.tam/Documents/owen/projects/tf-quant-finance/tf_quant_finance_/examples/jupyter_notebooks/American_Option_Black_Scholes.ipynb#ch0000028?line=15'>16</a>\u001b[0m price \u001b[39m=\u001b[39m tff\u001b[39m.\u001b[39;49mblack_scholes\u001b[39m.\u001b[39;49mbarrier_price(\n\u001b[0;32m     <a href='vscode-notebook-cell:/c%3A/Users/owen.tam/Documents/owen/projects/tf-quant-finance/tf_quant_finance_/examples/jupyter_notebooks/American_Option_Black_Scholes.ipynb#ch0000028?line=16'>17</a>\u001b[0m   discount_rates,\n\u001b[0;32m     <a href='vscode-notebook-cell:/c%3A/Users/owen.tam/Documents/owen/projects/tf-quant-finance/tf_quant_finance_/examples/jupyter_notebooks/American_Option_Black_Scholes.ipynb#ch0000028?line=17'>18</a>\u001b[0m   dividend_rates,\n\u001b[0;32m     <a href='vscode-notebook-cell:/c%3A/Users/owen.tam/Documents/owen/projects/tf-quant-finance/tf_quant_finance_/examples/jupyter_notebooks/American_Option_Black_Scholes.ipynb#ch0000028?line=18'>19</a>\u001b[0m   spots, \n\u001b[0;32m     <a href='vscode-notebook-cell:/c%3A/Users/owen.tam/Documents/owen/projects/tf-quant-finance/tf_quant_finance_/examples/jupyter_notebooks/American_Option_Black_Scholes.ipynb#ch0000028?line=19'>20</a>\u001b[0m   strikes,\n\u001b[0;32m     <a href='vscode-notebook-cell:/c%3A/Users/owen.tam/Documents/owen/projects/tf-quant-finance/tf_quant_finance_/examples/jupyter_notebooks/American_Option_Black_Scholes.ipynb#ch0000028?line=20'>21</a>\u001b[0m   barriers, \n\u001b[0;32m     <a href='vscode-notebook-cell:/c%3A/Users/owen.tam/Documents/owen/projects/tf-quant-finance/tf_quant_finance_/examples/jupyter_notebooks/American_Option_Black_Scholes.ipynb#ch0000028?line=21'>22</a>\u001b[0m   rebates, \n\u001b[0;32m     <a href='vscode-notebook-cell:/c%3A/Users/owen.tam/Documents/owen/projects/tf-quant-finance/tf_quant_finance_/examples/jupyter_notebooks/American_Option_Black_Scholes.ipynb#ch0000028?line=22'>23</a>\u001b[0m   volatilities,\n\u001b[0;32m     <a href='vscode-notebook-cell:/c%3A/Users/owen.tam/Documents/owen/projects/tf-quant-finance/tf_quant_finance_/examples/jupyter_notebooks/American_Option_Black_Scholes.ipynb#ch0000028?line=23'>24</a>\u001b[0m   expiries, \n\u001b[0;32m     <a href='vscode-notebook-cell:/c%3A/Users/owen.tam/Documents/owen/projects/tf-quant-finance/tf_quant_finance_/examples/jupyter_notebooks/American_Option_Black_Scholes.ipynb#ch0000028?line=24'>25</a>\u001b[0m   is_barrier_down, \n\u001b[0;32m     <a href='vscode-notebook-cell:/c%3A/Users/owen.tam/Documents/owen/projects/tf-quant-finance/tf_quant_finance_/examples/jupyter_notebooks/American_Option_Black_Scholes.ipynb#ch0000028?line=25'>26</a>\u001b[0m   is_knock_out, \n\u001b[0;32m     <a href='vscode-notebook-cell:/c%3A/Users/owen.tam/Documents/owen/projects/tf-quant-finance/tf_quant_finance_/examples/jupyter_notebooks/American_Option_Black_Scholes.ipynb#ch0000028?line=26'>27</a>\u001b[0m   is_call_option)\n",
            "\u001b[1;31mTypeError\u001b[0m: barrier_price() takes 0 positional arguments but 11 were given"
          ]
        }
      ],
      "source": [
        "import tf_quant_finance as tff\n",
        "\n",
        "dtype = np.float64\n",
        "discount_rates = np.array([0.0, .08])\n",
        "dividend_rates = np.array([0.0, .04])\n",
        "spots = np.array([100., 100.])\n",
        "strikes = np.array([50., 90.])\n",
        "barriers = np.array([60., 95.])\n",
        "rebates = np.array([0., 3.])\n",
        "volatilities = np.array([.3, .25])\n",
        "expiries = np.array([6.5/12, .5])\n",
        "is_barrier_down = np.array([False, False])\n",
        "is_knock_out = np.array([True, False])\n",
        "is_call_option = np.array([False, True])\n",
        "\n",
        "price = tff.black_scholes.barrier_price(\n",
        "  discount_rates,\n",
        "  dividend_rates,\n",
        "  spots, \n",
        "  strikes,\n",
        "  barriers, \n",
        "  rebates, \n",
        "  volatilities,\n",
        "  expiries, \n",
        "  is_barrier_down, \n",
        "  is_knock_out, \n",
        "  is_call_option)\n"
      ]
    },
    {
      "cell_type": "code",
      "execution_count": 106,
      "metadata": {},
      "outputs": [
        {
          "data": {
            "text/plain": [
              "(<tf.Tensor: shape=(5,), dtype=bool, numpy=array([False, False, False, False,  True])>,\n",
              " <tf.Tensor: shape=(5,), dtype=float64, numpy=\n",
              " array([3.33105023e-01, 2.49771689e-01, 1.66438356e-01, 8.31050228e-02,\n",
              "        2.28310502e-04])>,\n",
              " <tf.Tensor: shape=(5,), dtype=float64, numpy=array([0.00045811, 0.00045811, 0.00045811, 0.00045811, 0.00045833])>)"
            ]
          },
          "execution_count": 106,
          "metadata": {},
          "output_type": "execute_result"
        }
      ],
      "source": [
        "a = tf.range(1.5/12, 6.5/12, 1/12, dtype=dtype)\n",
        "b = tf.constant(0.45810502283104887, dtype=tf.float64)\n",
        "rel_tol=tf.constant(1e-3, dtype=tf.float64)\n",
        "abs_tol=tf.constant(0.0, dtype=tf.float64)\n",
        "con = tf.math.less_equal(tf.math.abs(a-b), tf.math.maximum(rel_tol * tf.math.maximum(tf.math.abs(a), tf.math.abs(b)), abs_tol))\n",
        "# tf.math.abs(a-b),tf.math.maximum(rel_tol * tf.math.maximum(tf.math.abs(a), tf.math.abs(b)), abs_tol)\n",
        "\n",
        "con, tf.math.abs(a-b), tf.math.maximum(rel_tol * tf.math.maximum(tf.math.abs(a), tf.math.abs(b)), abs_tol)"
      ]
    },
    {
      "cell_type": "code",
      "execution_count": 83,
      "metadata": {
        "id": "2nA2FSdTgcEM",
        "outputId": "5fc16840-0d8f-4ef0-c597-27df47e28e08"
      },
      "outputs": [],
      "source": [
        "#@title **Imports** { display-mode: \"form\" }\n",
        "\n",
        "import matplotlib.pyplot as plt\n",
        "import numpy as np\n",
        "import time\n",
        "\n",
        "import pandas as pd\n",
        "import seaborn as sns\n",
        "\n",
        "import tensorflow as tf\n",
        "\n",
        "# Import for Tensorflow Quant Finance\n",
        "import tf_quant_finance as tff \n",
        "\n",
        "# Shortcut alias\n",
        "pde = tff.math.pde\n",
        "\n",
        "from IPython.core.pylabtools import figsize\n",
        "figsize(21, 14)  # better graph size for Colab  \n",
        "\n",
        "# import QuantLib as ql\n"
      ]
    },
    {
      "cell_type": "markdown",
      "metadata": {
        "id": "KsVBo68Fabgt"
      },
      "source": [
        " ### Setup American Option pricer\n",
        "   American option price $V(x, t)$ of an option with spot price $x$ at time $t$\n",
        "   under Black-Scholes model satisfies the following PDE\n",
        "   $$V_{t} + \\frac{\\sigma^2}{2}  x^2  V_{xx} + r  x  V_{x}\n",
        " - r  V(t, x) = 0.$$\n",
        "  Tensorflow Quant Finance library provides tools for solving Parabolic PDE's\n",
        "  of the form  \n",
        "  $$V_{t} + \\frac{a(t, x)}{2}  V_{xx} + b(t, x) V_{x} - c(t, x)  V = 0$$\n",
        "\n",
        "  Henceforth,\n",
        "  $a(t, x)$, $b(t, x)$, and $c(t, x)$ are referred to as quadratic, linear and\n",
        "  shift coefficients, respectively. We describe in details how to write a\n",
        "  custom pricer that is both batchable (i.e., multiple equations can be solved\n",
        "  simultaneously) and compatible with an NVIDIA GPU. \n"
      ]
    },
    {
      "cell_type": "code",
      "execution_count": 95,
      "metadata": {
        "cellView": "form",
        "id": "13_gS0ZIBw2x"
      },
      "outputs": [],
      "source": [
        "#@title **American Option pricer**\n",
        "\n",
        "# tf.function decorator makes the function faster in graph mode.\n",
        "@tf.function\n",
        "def american_option(number_grid_points,\n",
        "                    time_delta,\n",
        "                    strike,\n",
        "                    volatility,\n",
        "                    risk_free_rate,\n",
        "                    expiry,\n",
        "                    dtype=tf.float64):\n",
        "  \"\"\" Computes American Call options prices.\n",
        "\n",
        "  Args:\n",
        "    number_grid_points: A Python int. Number of grid points for the finite\n",
        "      difference scheme.\n",
        "    time_delta: A Python float. Grid time discretization parameter.\n",
        "    strike: A real `Tensor` of shape `(number_of_options, 1)`.\n",
        "      Represents the strikes of the underlying American options. \n",
        "    volatility: A real `Tensor` of shape `(number_of_options, 1)`.\n",
        "      Represents the volatilities of the underlying American options. \n",
        "    risk_free_rate: A real `Tensor` of shape `(number_of_options, 1)`.\n",
        "      Represents the risk-free interest rates associated with the underlying\n",
        "      American options.\n",
        "    expiry: A Python float. Expiry date of the options. If the options\n",
        "      have different expiries, volatility term has to adjusted to\n",
        "      make expiries the same.\n",
        "    dtype: Optional `tf.dtype` used to assert dtype of the input `Tensor`s.\n",
        "\n",
        "  Returns:\n",
        "    A tuple of the estimated option prices of shape\n",
        "    `(number_of_options, number_grid_points)` and the corresponding `Tensor` \n",
        "    of grid locations of shape `(number_grid_points,)`.\n",
        "  \"\"\"\n",
        "  # Define the coordinate grid\n",
        "  s_min = 0.01\n",
        "  s_max = 300.\n",
        "  grid = pde.grids.uniform_grid(minimums=[s_min],\n",
        "                                maximums=[s_max],\n",
        "                                sizes=[number_grid_points],\n",
        "                                dtype=dtype)\n",
        "\n",
        "  # Define the values grid for the final condition\n",
        "  s = grid[0]\n",
        "  final_values_grid = tf.nn.relu(strike-s)\n",
        "\n",
        "  # Define the PDE coefficient functions\n",
        "  def second_order_coeff_fn(t, grid):\n",
        "    del t\n",
        "    s = grid[0]\n",
        "    return [[volatility ** 2 * s ** 2 / 2]]\n",
        "\n",
        "  def first_order_coeff_fn(t, grid):\n",
        "    del t\n",
        "    s = grid[0]\n",
        "    return [risk_free_rate * s]\n",
        "\n",
        "  def zeroth_order_coeff_fn(t, grid):\n",
        "    del t, grid\n",
        "    return -risk_free_rate\n",
        "\n",
        "  # Define the boundary conditions\n",
        "  @pde.boundary_conditions.dirichlet\n",
        "  def upper_boundary_fn(t, grid):\n",
        "    del t, grid\n",
        "    return tf.constant(0.0, dtype=dtype)\n",
        "\n",
        "  @pde.boundary_conditions.dirichlet\n",
        "  def lower_boundary_fn(t, grid):\n",
        "    del grid\n",
        "    return tf.squeeze(strike * tf.exp(-risk_free_rate * (expiry - t)) -0)\n",
        "\n",
        "  # In order to price American option one needs to set option values to \n",
        "  # V(x) := max(V(x), max(x - strike, 0)) after each iteration\n",
        "  def values_transform_fn(t, grid, values):\n",
        "    del t\n",
        "    return grid, values\n",
        "    s = grid[0]\n",
        "    values_floor = tf.nn.relu(s - strike)\n",
        "    return grid, tf.maximum(values, values_floor)\n",
        "\n",
        "  # Solve\n",
        "  estimate_values, estimate_grid, _, _ = \\\n",
        "    pde.fd_solvers.solve_backward(\n",
        "      start_time=expiry,\n",
        "      end_time=0,\n",
        "      values_transform_fn=values_transform_fn,\n",
        "      coord_grid=grid,\n",
        "      values_grid=final_values_grid,\n",
        "      time_step=time_delta,\n",
        "      boundary_conditions=[(lower_boundary_fn, upper_boundary_fn)],\n",
        "      second_order_coeff_fn=second_order_coeff_fn,\n",
        "      first_order_coeff_fn=first_order_coeff_fn,\n",
        "      zeroth_order_coeff_fn=zeroth_order_coeff_fn,\n",
        "      dtype=dtype\n",
        "    )\n",
        "  return estimate_values, estimate_grid[0]\n",
        "\n",
        "\n",
        "def option_param(number_of_options, dtype, seed=42):\n",
        "  \"\"\" Function to generate volatilities, rates, strikes \"\"\"\n",
        "  np.random.seed(seed)\n",
        "  if number_of_options > 1:\n",
        "    volatility = tf.random.uniform(shape=(number_of_options, 1),\n",
        "                                   dtype=dtype) * 0.1 + 0.3\n",
        "    # Random risk free rate between 0 and 0.2.\n",
        "    risk_free_rate = tf.constant(\n",
        "      np.random.rand(number_of_options, 1) * 0.05, dtype)\n",
        "    # Random strike between 20 and 120.\n",
        "    strike = tf.constant(\n",
        "      np.random.rand(number_of_options, 1) * 100 + 50, dtype)\n",
        "  else:\n",
        "    volatility = tf.constant([0.3], dtype)\n",
        "    risk_free_rate = tf.constant([0.05], dtype)\n",
        "    strike = tf.constant([50], dtype)\n",
        "  return volatility, risk_free_rate, strike"
      ]
    },
    {
      "cell_type": "markdown",
      "metadata": {
        "id": "OnijmIHSD5_a"
      },
      "source": [
        "### Batching\n",
        "\n",
        "* Batching is a powerful feature of design of Tensorflow.\n",
        "* TFF leverages this strongly.\n",
        "* Most methods can accept a \"batch\" of inputs.\n",
        "* Example below (Batch of American Call Options with varying strikes, vols and rates).\n",
        "\n"
      ]
    },
    {
      "cell_type": "code",
      "execution_count": 96,
      "metadata": {
        "id": "qAPYRpLIEgPH"
      },
      "outputs": [],
      "source": [
        "#@title Price multiple American Call options at a time\n",
        "\n",
        "number_of_options = 1 #@param\n",
        "\n",
        "time_delta = 0.005\n",
        "\n",
        "expiry = 1.0  \n",
        "\n",
        "number_grid_points = 1024 \n",
        "\n",
        "dtype = tf.float64 \n",
        "\n",
        "spot = 110  + tf.random.uniform(shape=[number_of_options, 1], dtype=dtype)\n",
        "\n",
        "# Generate volatilities, rates, strikes\n",
        "volatility, risk_free_rate, strike = option_param(number_of_options, dtype)\n",
        "\n",
        "# Build a graph to compute prices of the American Options.\n",
        "estimate, grid_locations = american_option(\n",
        "    time_delta=time_delta,\n",
        "    expiry=expiry,\n",
        "    number_grid_points=number_grid_points,\n",
        "    volatility=volatility,\n",
        "    risk_free_rate=risk_free_rate,\n",
        "    strike=strike,\n",
        "    dtype=dtype)\n",
        "\n",
        "# Convert to numpy for plotting\n",
        "estimate = estimate.numpy()\n",
        "grid_locations = grid_locations.numpy()"
      ]
    },
    {
      "cell_type": "code",
      "execution_count": 97,
      "metadata": {
        "cellView": "form",
        "colab": {
          "base_uri": "https://localhost:8080/",
          "height": 535
        },
        "id": "I7eAh-_Z3jdK",
        "outputId": "d1526452-0d1b-4ae1-9914-b7410d8027db"
      },
      "outputs": [
        {
          "data": {
            "image/png": "[encoded data removed]",
            "text/plain": [
              "<Figure size 720x576 with 1 Axes>"
            ]
          },
          "metadata": {},
          "output_type": "display_data"
        }
      ],
      "source": [
        "#@title Price/spot plot for the American Call options\n",
        "# Prepare data for plotting \n",
        "options = [x + 1 for x in range(number_of_options) for _ in range(1024)]\n",
        "plot_data = pd.DataFrame({\n",
        "    'Spot': list(np.ndarray.flatten(grid_locations)) * number_of_options, \n",
        "    'Price': estimate.flatten(),\n",
        "    'Option': options})\n",
        "\n",
        "\n",
        "# Plot\n",
        "plt.figure(figsize=(10, 8))\n",
        "sns.set(style=\"darkgrid\")\n",
        "sns.set_context(\"paper\", font_scale=1.5, rc={\"lines.linewidth\": 2.5})\n",
        "plot = sns.lineplot(x=\"Spot\", y=\"Price\", hue=\"Option\",\n",
        "                    data=plot_data,\n",
        "                    palette=sns.color_palette()[:number_of_options],\n",
        "                    legend=False)\n",
        "plot.axes.set_title(f\"Price/Spot for {number_of_options} American Call Options\",\n",
        "                    fontsize=25)\n",
        "xlabel = plot.axes.get_xlabel()\n",
        "ylabel = plot.axes.get_ylabel()\n",
        "plot.axes.set_xlabel(xlabel, fontsize=20)\n",
        "plot.axes.set_ylabel(ylabel, fontsize=20)\n",
        "plt.show()"
      ]
    },
    {
      "cell_type": "markdown",
      "metadata": {
        "id": "B4Y5lQV3S9l8"
      },
      "source": [
        "### Speedup from batching and XLA-compilation\n",
        "\n",
        "* Note that GPUs are particularly good for vectorized calculations. \n",
        "* XLA compilation (in this case Just-in-time compilation) improves CPU performance and demonstrates performance advantage over QuantLib."
      ]
    },
    {
      "cell_type": "code",
      "execution_count": 10,
      "metadata": {
        "cellView": "form",
        "colab": {
          "base_uri": "https://localhost:8080/"
        },
        "id": "YCWMBrv-S87k",
        "outputId": "c61ae5e1-0df2-47f9-c2ba-b30b15a25812"
      },
      "outputs": [
        {
          "name": "stdout",
          "output_type": "stream",
          "text": [
            "------------------------\n",
            "Tensorflow GPU\n",
            "wall time:  7.317706108093262\n",
            "options per second:  1366.5484582580004\n",
            "------------------------\n"
          ]
        }
      ],
      "source": [
        "#@title Tensorflow Finance pricing on GPU\n",
        "\n",
        "number_of_options = 10000  #@param\n",
        "\n",
        "time_delta = 0.005\n",
        "\n",
        "expiry = 1.0 \n",
        "\n",
        "number_grid_points = 1024\n",
        "\n",
        "dtype = tf.float64\n",
        "\n",
        "# Generate volatilities, rates, strikes\n",
        "volatility, risk_free_rate, strike = option_param(number_of_options, dtype)\n",
        "\n",
        "device = \"/gpu:0\"\n",
        "with tf.device(device):\n",
        "  \n",
        "  # Warmup (graph construction + graph optimization)\n",
        "  estimate, _ = american_option(\n",
        "      time_delta=time_delta,\n",
        "      expiry=expiry,\n",
        "      number_grid_points=number_grid_points, \n",
        "      volatility=volatility,\n",
        "      risk_free_rate=risk_free_rate,\n",
        "      strike=strike,\n",
        "      dtype=dtype)\n",
        "\n",
        "  # Timed run\n",
        "  t = time.time()\n",
        "  estimate, _ = american_option(\n",
        "      time_delta=time_delta,\n",
        "      expiry=expiry,\n",
        "      number_grid_points=number_grid_points, \n",
        "      volatility=volatility,\n",
        "      risk_free_rate=risk_free_rate,\n",
        "      strike=strike,\n",
        "      dtype=dtype)\n",
        "  time_gpu = time.time() - t\n",
        "    \n",
        "gpu_options_per_second = number_of_options / time_gpu\n",
        "print('------------------------')\n",
        "print('Tensorflow GPU')\n",
        "print('wall time: ', time_gpu)\n",
        "print('options per second: ', gpu_options_per_second)\n",
        "print('------------------------')"
      ]
    },
    {
      "cell_type": "code",
      "execution_count": 11,
      "metadata": {
        "cellView": "form",
        "colab": {
          "base_uri": "https://localhost:8080/"
        },
        "id": "Oav8Lit7Ox4-",
        "outputId": "7f24e0e9-c888-4386-ed20-1b708bf36bfe"
      },
      "outputs": [
        {
          "name": "stdout",
          "output_type": "stream",
          "text": [
            "Tensorflow CPU\n",
            "wall time:  0.13663411140441895\n",
            "options per second:  365.94082902187284\n",
            "------------------------\n"
          ]
        }
      ],
      "source": [
        "#@title Tensorflow Finance pricing on CPU\n",
        "\n",
        "number_of_options = 50  #@param\n",
        "\n",
        "time_delta = 0.005\n",
        "\n",
        "expiry = 1.0 \n",
        "\n",
        "number_grid_points = 1024\n",
        "\n",
        "dtype = tf.float64\n",
        "\n",
        "# Generate volatilities, rates, strikes\n",
        "volatility, risk_free_rate, strike = option_param(number_of_options, dtype)\n",
        "\n",
        "device = \"/cpu:0\"\n",
        "with tf.device(device):\n",
        "  \n",
        "  # Warmup (graph construction + graph optimization + jit_compilation)\n",
        "  estimate, _ = american_option(\n",
        "      time_delta=time_delta,\n",
        "      expiry=expiry,\n",
        "      number_grid_points=number_grid_points, \n",
        "      volatility=volatility,\n",
        "      risk_free_rate=risk_free_rate,\n",
        "      strike=strike,\n",
        "      dtype=dtype)\n",
        "\n",
        "  # Timed run\n",
        "  t = time.time()\n",
        "  estimate, _ = american_option(\n",
        "      time_delta=time_delta,\n",
        "      expiry=expiry,\n",
        "      number_grid_points=number_grid_points, \n",
        "      volatility=volatility,\n",
        "      risk_free_rate=risk_free_rate,\n",
        "      strike=strike,\n",
        "      dtype=dtype)\n",
        "  time_cpu = time.time() - t\n",
        "\n",
        "cpu_options_per_second = number_of_options / time_cpu\n",
        "print('Tensorflow CPU')\n",
        "print('wall time: ', time_cpu)\n",
        "print('options per second: ', cpu_options_per_second)\n",
        "print('------------------------')"
      ]
    },
    {
      "cell_type": "code",
      "execution_count": 12,
      "metadata": {
        "cellView": "form",
        "colab": {
          "base_uri": "https://localhost:8080/"
        },
        "id": "5arAmiJEu_Ip",
        "outputId": "ee096b11-0193-49a4-92ea-33d864c4accb"
      },
      "outputs": [
        {
          "name": "stdout",
          "output_type": "stream",
          "text": [
            "Tensorflow CPU XLA\n",
            "wall time:  0.09278297424316406\n",
            "options per second:  538.8919724534895\n",
            "------------------------\n"
          ]
        }
      ],
      "source": [
        "#@title Tensorflow Finance pricing on CPU (with XLA-compiled compuation)\n",
        "\n",
        "number_of_options = 50  #@param\n",
        "\n",
        "time_delta = 0.005\n",
        "\n",
        "expiry = 1.0 \n",
        "\n",
        "number_grid_points = 1024\n",
        "\n",
        "dtype = tf.float64\n",
        "\n",
        "# Generate volatilities, rates, strikes\n",
        "volatility, risk_free_rate, strike = option_param(number_of_options, dtype)\n",
        "\n",
        "american_option_xla = tf.function(american_option, \n",
        "                                  jit_compile=True)\n",
        "device = \"/cpu:0\"\n",
        "with tf.device(device):\n",
        "  \n",
        "  # Warmup (graph construction + graph optimization)\n",
        "  estimate, _ = american_option_xla(\n",
        "      time_delta=time_delta,\n",
        "      expiry=expiry,\n",
        "      number_grid_points=number_grid_points, \n",
        "      volatility=volatility,\n",
        "      risk_free_rate=risk_free_rate,\n",
        "      strike=strike,\n",
        "      dtype=dtype)\n",
        "\n",
        "  # Timed run\n",
        "  t = time.time()\n",
        "  estimate, _ = american_option_xla(\n",
        "      time_delta=time_delta,\n",
        "      expiry=expiry,\n",
        "      number_grid_points=number_grid_points, \n",
        "      volatility=volatility,\n",
        "      risk_free_rate=risk_free_rate,\n",
        "      strike=strike,\n",
        "      dtype=dtype)\n",
        "  time_cpu = time.time() - t\n",
        "\n",
        "cpu_jit_options_per_second = number_of_options / time_cpu\n",
        "print('Tensorflow CPU XLA')\n",
        "print('wall time: ', time_cpu)\n",
        "print('options per second: ', cpu_jit_options_per_second)\n",
        "print('------------------------')"
      ]
    },
    {
      "cell_type": "code",
      "execution_count": 13,
      "metadata": {
        "cellView": "form",
        "colab": {
          "base_uri": "https://localhost:8080/"
        },
        "id": "YxjImh_nJzqw",
        "outputId": "8747007a-66ef-4cee-bcba-4ee630878d3d"
      },
      "outputs": [
        {
          "name": "stdout",
          "output_type": "stream",
          "text": [
            "------------------------\n",
            "QuantLib\n",
            "wall time:  0.36302781105041504\n",
            "options per second:  137.7304946839357\n",
            "------------------------\n"
          ]
        }
      ],
      "source": [
        "#@title Quantlib  pricing\n",
        "\n",
        "# Will run only if QuantLib is installed\n",
        "\n",
        "number_of_options = 50  #@param\n",
        "\n",
        "dtype = tf.float64\n",
        "\n",
        "volatilities, risk_free_rates, strikes = option_param(number_of_options, dtype)\n",
        "\n",
        "(\n",
        "    volatilities, risk_free_rates, strikes\n",
        " ) = (volatilities.numpy(), \n",
        "      risk_free_rates.numpy(),\n",
        "      strikes.numpy()) \n",
        "\n",
        "time_delta = 0.005\n",
        "\n",
        "expiry = 1.0 \n",
        "\n",
        "number_grid_points = 1024\n",
        "\n",
        "spot_quote = ql.SimpleQuote(0.0)\n",
        "strike_quote = ql.SimpleQuote(0.0)\n",
        "rate_quote = ql.SimpleQuote(0.0)\n",
        "vol_quote = ql.SimpleQuote(0.0)\n",
        "\n",
        "# Initializers for American option pricer inputs\n",
        "spot_handle = ql.QuoteHandle(spot_quote)\n",
        "strike_handle = ql.QuoteHandle(strike_quote)\n",
        "rate_handle = ql.QuoteHandle(rate_quote)\n",
        "vol_handle = ql.QuoteHandle(vol_quote)\n",
        "\n",
        "\n",
        "calculation_date = ql.Date(1, 1, 2010)\n",
        "maturity_date = ql.Date(1, 1, 2011)\n",
        "day_count = ql.Thirty360()\n",
        "calendar = ql.NullCalendar()\n",
        "\n",
        "option_type = ql.Option.Call\n",
        "\n",
        "# Create American option data\n",
        "ql.Settings.instance().evaluationDate = calculation_date\n",
        "\n",
        "am_exercise = ql.AmericanExercise(calculation_date, maturity_date)\n",
        "\n",
        "flat_ts = ql.YieldTermStructureHandle(\n",
        "    ql.FlatForward(calculation_date, rate_handle, day_count)\n",
        ")\n",
        "\n",
        "flat_vol_ts = ql.BlackVolTermStructureHandle(\n",
        "    ql.BlackConstantVol(calculation_date, calendar, vol_handle, day_count)\n",
        ")\n",
        "\n",
        "\n",
        "bsm_process = ql.BlackScholesProcess(spot_handle,\n",
        "                                      flat_ts,\n",
        "                                      flat_vol_ts)\n",
        "# Compute the same price number_of_options times for fair time comparison\n",
        "t = time.time()\n",
        "for vol, rate, strike in zip(volatilities, risk_free_rates, strikes): \n",
        "  strike_quote.setValue(strike[0])\n",
        "  spot_quote.setValue(strike[0])\n",
        "  rate_quote.setValue(rate[0])\n",
        "  vol_quote.setValue(vol[0])\n",
        "  fd_american_engine = ql.FdBlackScholesVanillaEngine(\n",
        "      bsm_process,\n",
        "      int(expiry / time_delta),\n",
        "      number_grid_points)\n",
        "  payoff = ql.PlainVanillaPayoff(option_type, strike[0])\n",
        "  # Create American option object\n",
        "  american_option_ql = ql.VanillaOption(payoff, am_exercise)\n",
        "  american_option_ql.setPricingEngine(fd_american_engine)\n",
        "  # Price calculation\n",
        "  price = american_option_ql.NPV()\n",
        "\n",
        "time_ql = time.time() - t\n",
        "\n",
        "ql_options_per_second = number_of_options / time_ql\n",
        "print('------------------------')\n",
        "print('QuantLib')\n",
        "print('wall time: ', time_ql)\n",
        "print('options per second: ', ql_options_per_second)\n",
        "print('------------------------')"
      ]
    },
    {
      "cell_type": "code",
      "execution_count": 14,
      "metadata": {
        "cellView": "form",
        "colab": {
          "base_uri": "https://localhost:8080/",
          "height": 429
        },
        "id": "wUZv1UPdJ1DT",
        "outputId": "b0482c3c-a1f6-4954-c623-42e04bc3a74a"
      },
      "outputs": [
        {
          "data": {
            "image/png": "[encoded data removed]",
            "text/plain": [
              "<Figure size 864x432 with 1 Axes>"
            ]
          },
          "metadata": {},
          "output_type": "display_data"
        }
      ],
      "source": [
        "#@title Tensorflow Finance vs QuantLib\n",
        "# Throughput\n",
        "times_pd = pd.DataFrame([('QuantLib', ql_options_per_second), \n",
        "                         ('CPU', cpu_options_per_second),\n",
        "                         ('CPU XLA-compiled', cpu_jit_options_per_second), \n",
        "                         ('GPU', gpu_options_per_second)],\n",
        "                         columns=['Device', 'Options/sec'])\n",
        "sns.set(style=\"darkgrid\", palette=\"Paired\")\n",
        "sns.set_context(\"notebook\", font_scale=1.25, rc={\"lines.linewidth\": 2.5})\n",
        "plt.figure(figsize=(12, 6))\n",
        "pt = sns.barplot(y=\"Device\", x=\"Options/sec\", data=times_pd)\n",
        "pt.axes.set_title(\"Device Option Pricing Speed\", fontsize=25)\n",
        "xlabel = pt.axes.get_xlabel()\n",
        "ylabel = pt.axes.get_ylabel()\n",
        "pt.axes.set_xlabel(xlabel, fontsize=20)\n",
        "pt.axes.set_ylabel(ylabel, fontsize=20)\n",
        "plt.show()"
      ]
    },
    {
      "cell_type": "code",
      "execution_count": 15,
      "metadata": {
        "cellView": "form",
        "colab": {
          "base_uri": "https://localhost:8080/",
          "height": 480
        },
        "id": "lr3FSrVfSpk6",
        "outputId": "42d1c5e6-8bce-40ea-d4f0-69b97b826fc6"
      },
      "outputs": [
        {
          "name": "stdout",
          "output_type": "stream",
          "text": [
            "WARNING:tensorflow:5 out of the last 8 calls to <function american_option at 0x000001EC668658B8> triggered tf.function retracing. Tracing is expensive and the excessive number of tracings could be due to (1) creating @tf.function repeatedly in a loop, (2) passing tensors with different shapes, (3) passing Python objects instead of tensors. For (1), please define your @tf.function outside of the loop. For (2), @tf.function has reduce_retracing=True option that can avoid unnecessary retracing. For (3), please refer to https://www.tensorflow.org/guide/function#controlling_retracing and https://www.tensorflow.org/api_docs/python/tf/function for  more details.\n",
            "WARNING:tensorflow:5 out of the last 11 calls to <function american_option at 0x000001EC668658B8> triggered tf.function retracing. Tracing is expensive and the excessive number of tracings could be due to (1) creating @tf.function repeatedly in a loop, (2) passing tensors with different shapes, (3) passing Python objects instead of tensors. For (1), please define your @tf.function outside of the loop. For (2), @tf.function has reduce_retracing=True option that can avoid unnecessary retracing. For (3), please refer to https://www.tensorflow.org/guide/function#controlling_retracing and https://www.tensorflow.org/api_docs/python/tf/function for  more details.\n"
          ]
        },
        {
          "data": {
            "image/png": "[encoded data removed]",
            "text/plain": [
              "<Figure size 864x432 with 1 Axes>"
            ]
          },
          "metadata": {},
          "output_type": "display_data"
        }
      ],
      "source": [
        "#@title Time to price a batch of options (GPU vs QuantLib)\n",
        "\n",
        "import matplotlib.pyplot as plt\n",
        "import numpy as np\n",
        "import time\n",
        "batch_of_options = [1, 10, 100, 150, 200, 250, 300, 350, 400, 450, 500, 600, 700, 800, 900, 1000, 10000]  #@param\n",
        "\n",
        "gpu_times = []\n",
        "cpu_times = []\n",
        "\n",
        "\n",
        "for options in batch_of_options:\n",
        "    \n",
        "  # Generate volatilities, rates, strikes\n",
        "  volatility, risk_free_rate, strike = option_param(options, dtype)\n",
        "\n",
        "  with tf.device(\"/gpu:0\"):\n",
        "    \n",
        "    # Warmup\n",
        "    estimate, _ = american_option(\n",
        "        time_delta=time_delta,\n",
        "        expiry=expiry,\n",
        "        number_grid_points=number_grid_points,\n",
        "        volatility=volatility,\n",
        "        risk_free_rate=risk_free_rate,\n",
        "        strike=strike,\n",
        "        dtype=dtype)\n",
        "    \n",
        "    # Timed run\n",
        "    t = time.time()\n",
        "    estimate, _ = american_option(\n",
        "        time_delta=time_delta,\n",
        "        expiry=expiry,\n",
        "        number_grid_points=number_grid_points,\n",
        "        volatility=volatility,\n",
        "        risk_free_rate=risk_free_rate,\n",
        "        strike=strike,\n",
        "        dtype=dtype)\n",
        "    time_gpu = time.time() - t\n",
        "    \n",
        "  gpu_times.append(time_gpu)\n",
        "\n",
        "# We hardcode QunatLib values here for simplicity\n",
        "ql_times = [1 / ql_options_per_second * i for i in batch_of_options]\n",
        "\n",
        "# Prepare Plotting \n",
        "plt.figure(figsize=(12, 6))\n",
        "sns.set(style=\"darkgrid\")\n",
        "sns.set_context(\"paper\", font_scale=1.5, rc={\"lines.linewidth\": 2.5})\n",
        "batches = batch_of_options * 2\n",
        "num_batches = len(batch_of_options)\n",
        "method = [\"Quantlib\"] * num_batches +  [\"Tensorflow\"] * num_batches\n",
        "times = ql_times + gpu_times\n",
        "data = {\"Batch Size\": batches,\n",
        "        \"Method\": method,\n",
        "        \"Times\": times}\n",
        "ql_gpu_times = pd.DataFrame(data = data)\n",
        "plot = sns.lineplot(x=\"Batch Size\", y=\"Times\", hue=\"Method\", style = \"Method\",\n",
        "                    data=ql_gpu_times, markers=True, dashes=False)\n",
        "#handles, labels = plot.get_legend_handles_labels()\n",
        "#plot.legend(handles=handles[1:], labels=labels[1:], loc=\"upper left\")\n",
        "plot.axes.set_title(\"Option Compute Time by Batch Size\", fontsize=20)\n",
        "xlabel = plot.axes.get_xlabel()\n",
        "plot.axes.set_xlabel(xlabel, fontsize=20)\n",
        "plot.axes.set_ylabel('Time in seconds', fontsize=20)\n",
        "plt.setp(plot.get_legend().get_title(), fontsize=15)\n",
        "plt.show()"
      ]
    },
    {
      "cell_type": "code",
      "execution_count": null,
      "metadata": {
        "cellView": "form",
        "colab": {
          "base_uri": "https://localhost:8080/"
        },
        "id": "49XsRCZ8LkYw",
        "outputId": "51b5f970-a688-4179-eadf-ae2f8a064b6a"
      },
      "outputs": [
        {
          "data": {
            "image/png": "[encoded data removed]",
            "text/plain": [
              "<Figure size 864x432 with 1 Axes>"
            ]
          },
          "metadata": {
            "tags": []
          },
          "output_type": "display_data"
        }
      ],
      "source": [
        "#@title Options per second depending on the batch size\n",
        "\n",
        "batch_of_options = [1, 10, 100, 1000, 2000, 5000]  #@param\n",
        "gpu_times = []\n",
        "cpu_times = []\n",
        "\n",
        "for options in batch_of_options:\n",
        "    \n",
        "  with tf.device(\"/gpu:0\"):\n",
        "        \n",
        "    # Generate volatilities, rates, strikes\n",
        "    volatility, risk_free_rate, strike = option_param(options, dtype)\n",
        "    \n",
        "    # Warmup\n",
        "    estimate = american_option(\n",
        "        time_delta=time_delta,\n",
        "        expiry=expiry,\n",
        "        number_grid_points=number_grid_points,\n",
        "        volatility=volatility,\n",
        "        risk_free_rate=risk_free_rate,\n",
        "        strike=strike,\n",
        "        dtype=dtype)\n",
        "    \n",
        "    # Timed run\n",
        "    t = time.time()\n",
        "    estimate = american_option(\n",
        "        time_delta=time_delta,\n",
        "        expiry=expiry,\n",
        "        number_grid_points=number_grid_points,\n",
        "        volatility=volatility,\n",
        "        risk_free_rate=risk_free_rate,\n",
        "        strike=strike,\n",
        "        dtype=dtype)\n",
        "    time_gpu = time.time() - t\n",
        "\n",
        "  gpu_times.append(options / time_gpu)\n",
        "\n",
        "for options in batch_of_options:\n",
        "\n",
        "  with tf.device(\"/cpu:0\"):\n",
        "        \n",
        "    # Generate volatilities, rates, strikes\n",
        "    volatility, risk_free_rate, strike = option_param(options, dtype)\n",
        "    \n",
        "    # Warmup\n",
        "    estimate = american_option(\n",
        "        time_delta=time_delta,\n",
        "        expiry=expiry,\n",
        "        number_grid_points=number_grid_points,\n",
        "        volatility=volatility,\n",
        "        risk_free_rate=risk_free_rate,\n",
        "        strike=strike,\n",
        "        dtype=dtype)\n",
        "    \n",
        "    # Timed run\n",
        "    t = time.time()\n",
        "    estimate = american_option(\n",
        "        time_delta=time_delta,\n",
        "        expiry=expiry,\n",
        "        number_grid_points=number_grid_points,\n",
        "        volatility=volatility,\n",
        "        risk_free_rate=risk_free_rate,\n",
        "        strike=strike,\n",
        "        dtype=dtype)\n",
        "    time_cpu = time.time() - t\n",
        "    \n",
        "  cpu_times.append(options / time_cpu)\n",
        "\n",
        "# Prepare data for plotting\n",
        "plt.figure(figsize=(12, 6))\n",
        "batches = batch_of_options * 2\n",
        "num_batches = len(batch_of_options)\n",
        "method = [\"GPU\"] * num_batches +  [\"CPU\"] * num_batches\n",
        "times = gpu_times + cpu_times\n",
        "data = {\"Batch Size\": batches,\n",
        "        \"Hardware\": method,\n",
        "        \"Options/Sec\": times}\n",
        "gpu_cpu_times = pd.DataFrame(data = data)\n",
        "sns.set(style=\"darkgrid\", palette=\"Paired\")\n",
        "sns.set_context(\"notebook\", font_scale=1.25, rc={\"lines.linewidth\": 2.5})\n",
        "pt = sns.barplot(x=\"Batch Size\", y=\"Options/Sec\",hue=\"Hardware\", data=gpu_cpu_times)\n",
        "pt.axes.set_title(\"Batched Options Priced per Second (GPU vs CPU)\",fontsize=25)\n",
        "xlabel = pt.axes.get_xlabel()\n",
        "ylabel = pt.axes.get_ylabel()\n",
        "pt.axes.set_xlabel(xlabel, fontsize=20)\n",
        "pt.axes.set_ylabel(ylabel, fontsize=20)\n",
        "plt.show()"
      ]
    }
  ],
  "metadata": {
    "accelerator": "GPU",
    "colab": {
      "collapsed_sections": [
        "OnijmIHSD5_a"
      ],
      "name": "American_Option_Black_Scholes.ipynb",
      "provenance": [],
      "toc_visible": true
    },
    "interpreter": {
      "hash": "98c1b74b3abac0b5d914c9473484a67194d7eee093981e25a9af04d11c79b9e8"
    },
    "kernelspec": {
      "display_name": "Python 3.8.9 ('.venv': venv)",
      "language": "python",
      "name": "python3"
    },
    "language_info": {
      "codemirror_mode": {
        "name": "ipython",
        "version": 3
      },
      "file_extension": ".py",
      "mimetype": "text/x-python",
      "name": "python",
      "nbconvert_exporter": "python",
      "pygments_lexer": "ipython3",
      "version": "3.8.9"
    }
  },
  "nbformat": 4,
  "nbformat_minor": 0
}
